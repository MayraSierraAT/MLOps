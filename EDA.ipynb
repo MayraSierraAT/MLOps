{
 "cells": [
  {
   "cell_type": "markdown",
   "metadata": {},
   "source": [
    "### **EDA - Análisis Exploratorio de Datos**"
   ]
  },
  {
   "cell_type": "markdown",
   "metadata": {},
   "source": [
    "Se lleva a cabo el Análisis Exploratorio de Datos `EDA` para cada conjunto de datos resultante del proceso `ETL` en cada uno de los casos. Al analizar estos datos, se obtendrá una comprensión más profunda que permitirá tomar decisiones sobre qué características se utilizarán para entrenar el modelo de recomendación."
   ]
  },
  {
   "cell_type": "code",
   "execution_count": 1,
   "metadata": {},
   "outputs": [],
   "source": [
    "#Importando librerías\n",
    "import pandas as pd\n",
    "import matplotlib.pyplot as plt\n",
    "import seaborn as sns"
   ]
  },
  {
   "cell_type": "markdown",
   "metadata": {},
   "source": [
    "**1. EDA** `steam_games.parquet`\n",
    "\n",
    "a) *Extracción y revisión de nulos y duplicados*"
   ]
  },
  {
   "cell_type": "code",
   "execution_count": 2,
   "metadata": {},
   "outputs": [
    {
     "data": {
      "text/html": [
       "<div>\n",
       "<style scoped>\n",
       "    .dataframe tbody tr th:only-of-type {\n",
       "        vertical-align: middle;\n",
       "    }\n",
       "\n",
       "    .dataframe tbody tr th {\n",
       "        vertical-align: top;\n",
       "    }\n",
       "\n",
       "    .dataframe thead th {\n",
       "        text-align: right;\n",
       "    }\n",
       "</style>\n",
       "<table border=\"1\" class=\"dataframe\">\n",
       "  <thead>\n",
       "    <tr style=\"text-align: right;\">\n",
       "      <th></th>\n",
       "      <th>item_id</th>\n",
       "      <th>app_name</th>\n",
       "      <th>genres</th>\n",
       "      <th>developer</th>\n",
       "      <th>price</th>\n",
       "      <th>release_year</th>\n",
       "    </tr>\n",
       "  </thead>\n",
       "  <tbody>\n",
       "    <tr>\n",
       "      <th>0</th>\n",
       "      <td>761140</td>\n",
       "      <td>Lost Summoner Kitty</td>\n",
       "      <td>Action</td>\n",
       "      <td>Kotoshiro</td>\n",
       "      <td>4.99</td>\n",
       "      <td>2018</td>\n",
       "    </tr>\n",
       "    <tr>\n",
       "      <th>1</th>\n",
       "      <td>761140</td>\n",
       "      <td>Lost Summoner Kitty</td>\n",
       "      <td>Casual</td>\n",
       "      <td>Kotoshiro</td>\n",
       "      <td>4.99</td>\n",
       "      <td>2018</td>\n",
       "    </tr>\n",
       "    <tr>\n",
       "      <th>2</th>\n",
       "      <td>761140</td>\n",
       "      <td>Lost Summoner Kitty</td>\n",
       "      <td>Indie</td>\n",
       "      <td>Kotoshiro</td>\n",
       "      <td>4.99</td>\n",
       "      <td>2018</td>\n",
       "    </tr>\n",
       "    <tr>\n",
       "      <th>3</th>\n",
       "      <td>761140</td>\n",
       "      <td>Lost Summoner Kitty</td>\n",
       "      <td>Simulation</td>\n",
       "      <td>Kotoshiro</td>\n",
       "      <td>4.99</td>\n",
       "      <td>2018</td>\n",
       "    </tr>\n",
       "    <tr>\n",
       "      <th>4</th>\n",
       "      <td>761140</td>\n",
       "      <td>Lost Summoner Kitty</td>\n",
       "      <td>Strategy</td>\n",
       "      <td>Kotoshiro</td>\n",
       "      <td>4.99</td>\n",
       "      <td>2018</td>\n",
       "    </tr>\n",
       "    <tr>\n",
       "      <th>...</th>\n",
       "      <td>...</td>\n",
       "      <td>...</td>\n",
       "      <td>...</td>\n",
       "      <td>...</td>\n",
       "      <td>...</td>\n",
       "      <td>...</td>\n",
       "    </tr>\n",
       "    <tr>\n",
       "      <th>68011</th>\n",
       "      <td>610660</td>\n",
       "      <td>Russian Roads</td>\n",
       "      <td>Indie</td>\n",
       "      <td>Laush Dmitriy Sergeevich</td>\n",
       "      <td>1.99</td>\n",
       "      <td>2018</td>\n",
       "    </tr>\n",
       "    <tr>\n",
       "      <th>68012</th>\n",
       "      <td>610660</td>\n",
       "      <td>Russian Roads</td>\n",
       "      <td>Racing</td>\n",
       "      <td>Laush Dmitriy Sergeevich</td>\n",
       "      <td>1.99</td>\n",
       "      <td>2018</td>\n",
       "    </tr>\n",
       "    <tr>\n",
       "      <th>68013</th>\n",
       "      <td>610660</td>\n",
       "      <td>Russian Roads</td>\n",
       "      <td>Simulation</td>\n",
       "      <td>Laush Dmitriy Sergeevich</td>\n",
       "      <td>1.99</td>\n",
       "      <td>2018</td>\n",
       "    </tr>\n",
       "    <tr>\n",
       "      <th>68014</th>\n",
       "      <td>658870</td>\n",
       "      <td>Exit Directions</td>\n",
       "      <td>Casual</td>\n",
       "      <td>xropi,stev3ns</td>\n",
       "      <td>4.99</td>\n",
       "      <td>2017</td>\n",
       "    </tr>\n",
       "    <tr>\n",
       "      <th>68015</th>\n",
       "      <td>658870</td>\n",
       "      <td>Exit Directions</td>\n",
       "      <td>Indie</td>\n",
       "      <td>xropi,stev3ns</td>\n",
       "      <td>4.99</td>\n",
       "      <td>2017</td>\n",
       "    </tr>\n",
       "  </tbody>\n",
       "</table>\n",
       "<p>68016 rows × 6 columns</p>\n",
       "</div>"
      ],
      "text/plain": [
       "       item_id             app_name      genres                 developer  \\\n",
       "0       761140  Lost Summoner Kitty      Action                 Kotoshiro   \n",
       "1       761140  Lost Summoner Kitty      Casual                 Kotoshiro   \n",
       "2       761140  Lost Summoner Kitty       Indie                 Kotoshiro   \n",
       "3       761140  Lost Summoner Kitty  Simulation                 Kotoshiro   \n",
       "4       761140  Lost Summoner Kitty    Strategy                 Kotoshiro   \n",
       "...        ...                  ...         ...                       ...   \n",
       "68011   610660        Russian Roads       Indie  Laush Dmitriy Sergeevich   \n",
       "68012   610660        Russian Roads      Racing  Laush Dmitriy Sergeevich   \n",
       "68013   610660        Russian Roads  Simulation  Laush Dmitriy Sergeevich   \n",
       "68014   658870      Exit Directions      Casual             xropi,stev3ns   \n",
       "68015   658870      Exit Directions       Indie             xropi,stev3ns   \n",
       "\n",
       "       price  release_year  \n",
       "0       4.99          2018  \n",
       "1       4.99          2018  \n",
       "2       4.99          2018  \n",
       "3       4.99          2018  \n",
       "4       4.99          2018  \n",
       "...      ...           ...  \n",
       "68011   1.99          2018  \n",
       "68012   1.99          2018  \n",
       "68013   1.99          2018  \n",
       "68014   4.99          2017  \n",
       "68015   4.99          2017  \n",
       "\n",
       "[68016 rows x 6 columns]"
      ]
     },
     "execution_count": 2,
     "metadata": {},
     "output_type": "execute_result"
    }
   ],
   "source": [
    "# Se extrae el dataset que se logró luego del ETL\n",
    "df_games= pd.read_parquet(\"data/steam_games.parquet\")\n",
    "df_games"
   ]
  },
  {
   "cell_type": "code",
   "execution_count": 3,
   "metadata": {},
   "outputs": [
    {
     "name": "stdout",
     "output_type": "stream",
     "text": [
      "<class 'pandas.core.frame.DataFrame'>\n",
      "RangeIndex: 68016 entries, 0 to 68015\n",
      "Data columns (total 6 columns):\n",
      " #   Column        Non-Null Count  Dtype  \n",
      "---  ------        --------------  -----  \n",
      " 0   item_id       68016 non-null  int64  \n",
      " 1   app_name      67917 non-null  object \n",
      " 2   genres        68016 non-null  object \n",
      " 3   developer     68016 non-null  object \n",
      " 4   price         68016 non-null  float64\n",
      " 5   release_year  68016 non-null  int64  \n",
      "dtypes: float64(1), int64(2), object(3)\n",
      "memory usage: 3.1+ MB\n"
     ]
    }
   ],
   "source": [
    "#Se proporciona información acerca del número de columnas y la naturaleza del dato que estas contienen.\n",
    "df_games.info()"
   ]
  },
  {
   "cell_type": "code",
   "execution_count": 4,
   "metadata": {},
   "outputs": [
    {
     "data": {
      "text/plain": [
       "item_id          0\n",
       "app_name        99\n",
       "genres           0\n",
       "developer        0\n",
       "price            0\n",
       "release_year     0\n",
       "dtype: int64"
      ]
     },
     "execution_count": 4,
     "metadata": {},
     "output_type": "execute_result"
    }
   ],
   "source": [
    "#Realizamos un recuento de los valores nulos en cada columna.\n",
    "df_games.isnull().sum()"
   ]
  },
  {
   "cell_type": "markdown",
   "metadata": {},
   "source": [
    "b) *Tratamiento Variables categóricas*"
   ]
  },
  {
   "cell_type": "markdown",
   "metadata": {},
   "source": [
    "Feature `genres`"
   ]
  },
  {
   "cell_type": "code",
   "execution_count": 5,
   "metadata": {},
   "outputs": [
    {
     "data": {
      "text/plain": [
       "<bound method Series.to_frame of genres\n",
       "Indie                        15081\n",
       "Action                       10637\n",
       "Casual                        8052\n",
       "Adventure                     7781\n",
       "Strategy                      6676\n",
       "Simulation                    6494\n",
       "RPG                           5106\n",
       "Free to Play                  1869\n",
       "Early Access                  1382\n",
       "Sports                        1206\n",
       "Racing                        1048\n",
       "Massively Multiplayer          993\n",
       "Design &amp; Illustration      451\n",
       "Utilities                      319\n",
       "Web Publishing                 259\n",
       "Animation &amp; Modeling       172\n",
       "Education                      122\n",
       "Video Production               103\n",
       "Software Training               99\n",
       "Audio Production                82\n",
       "Photo Editing                   77\n",
       "Accounting                       7\n",
       "Name: count, dtype: int64>"
      ]
     },
     "execution_count": 5,
     "metadata": {},
     "output_type": "execute_result"
    }
   ],
   "source": [
    "#Se realiza un recuento de los distintos géneros de juegos disponibles en Steam.\n",
    "cantidad_generos= df_games[\"genres\"].value_counts()\n",
    "cantidad_generos.to_frame"
   ]
  },
  {
   "cell_type": "code",
   "execution_count": 6,
   "metadata": {},
   "outputs": [
    {
     "name": "stderr",
     "output_type": "stream",
     "text": [
      "C:\\Users\\Mayra\\AppData\\Local\\Temp\\ipykernel_10580\\3570391132.py:2: FutureWarning: \n",
      "\n",
      "Passing `palette` without assigning `hue` is deprecated and will be removed in v0.14.0. Assign the `y` variable to `hue` and set `legend=False` for the same effect.\n",
      "\n",
      "  sns.countplot(data=df_games, y='genres', orient='h', palette=(\"cubehelix\"))\n"
     ]
    },
    {
     "data": {
      "image/png": "[encoded data removed]",
      "text/plain": [
       "<Figure size 600x400 with 1 Axes>"
      ]
     },
     "metadata": {},
     "output_type": "display_data"
    }
   ],
   "source": [
    "plt.figure(figsize=(6, 4))\n",
    "sns.countplot(data=df_games, y='genres', orient='h', palette=(\"cubehelix\"))\n",
    "plt.show()"
   ]
  },
  {
   "cell_type": "markdown",
   "metadata": {},
   "source": [
    "**Conclusión**\n",
    "\n",
    "Los generos que mayor cantidad de veces se repiten son Indie, Action, Casual y Adventure"
   ]
  },
  {
   "cell_type": "markdown",
   "metadata": {},
   "source": [
    "Feature `item_id`"
   ]
  },
  {
   "cell_type": "code",
   "execution_count": 7,
   "metadata": {},
   "outputs": [
    {
     "data": {
      "text/plain": [
       "27458"
      ]
     },
     "execution_count": 7,
     "metadata": {},
     "output_type": "execute_result"
    }
   ],
   "source": [
    "# se hace recuento de juegos Steam que hay en la plataforma \n",
    "cantidad_juegos= len(df_games[\"item_id\"].unique())\n",
    "cantidad_juegos"
   ]
  },
  {
   "cell_type": "markdown",
   "metadata": {},
   "source": [
    "**Conclusión** \n",
    "\n",
    "La plataforma de juegos Steam contiene 27458 item_id, es decir cantidad de titulos o juegos"
   ]
  },
  {
   "cell_type": "markdown",
   "metadata": {},
   "source": [
    "Feature `release_year`"
   ]
  },
  {
   "cell_type": "code",
   "execution_count": 8,
   "metadata": {},
   "outputs": [
    {
     "data": {
      "text/plain": [
       "release_year\n",
       "2017    24596\n",
       "2016    17289\n",
       "2015    11319\n",
       "2014     5805\n",
       "2013     2832\n",
       "2012     2024\n",
       "2011      949\n",
       "2010      657\n",
       "2009      475\n",
       "2008      320\n",
       "2007      254\n",
       "2018      235\n",
       "2006      212\n",
       "2005      128\n",
       "2003      117\n",
       "2001       97\n",
       "2004       90\n",
       "1998       72\n",
       "1999       71\n",
       "1997       64\n",
       "2002       60\n",
       "1996       56\n",
       "2000       54\n",
       "1994       51\n",
       "1995       48\n",
       "1993       39\n",
       "1992       24\n",
       "1991       19\n",
       "1989       11\n",
       "1990       11\n",
       "1988        9\n",
       "2019        6\n",
       "1986        5\n",
       "1984        5\n",
       "1987        5\n",
       "2021        3\n",
       "1983        3\n",
       "1985        1\n",
       "Name: count, dtype: int64"
      ]
     },
     "execution_count": 8,
     "metadata": {},
     "output_type": "execute_result"
    }
   ],
   "source": [
    "#se realiza recuento de los diferentes juegos Steam estrenados por año\n",
    "games_quantity_years = df_games[\"release_year\"].value_counts()\n",
    "\n",
    "games_quantity_years"
   ]
  },
  {
   "cell_type": "code",
   "execution_count": 9,
   "metadata": {},
   "outputs": [
    {
     "name": "stderr",
     "output_type": "stream",
     "text": [
      "C:\\Users\\Mayra\\AppData\\Local\\Temp\\ipykernel_5020\\3440260154.py:9: FutureWarning: \n",
      "\n",
      "Passing `palette` without assigning `hue` is deprecated and will be removed in v0.14.0. Assign the `x` variable to `hue` and set `legend=False` for the same effect.\n",
      "\n",
      "  sns.barplot(x=games_quantity_years.index, y=games_quantity_years.values, palette=(\"Set2\"))\n"
     ]
    },
    {
     "data": {
      "image/png": "[encoded data removed]",
      "text/plain": [
       "<Figure size 1400x500 with 1 Axes>"
      ]
     },
     "metadata": {},
     "output_type": "display_data"
    }
   ],
   "source": [
    "#Reorganizo el marco de datos para que sea posible crear una representación gráfica.\n",
    "\n",
    "games_quantity_years = games_quantity_years.reindex([\"no data\"] + list(games_quantity_years.index))\n",
    "\n",
    "games_quantity_years = games_quantity_years.sort_index()\n",
    "\n",
    "plt.figure(figsize=(14, 5))\n",
    "\n",
    "sns.barplot(x=games_quantity_years.index, y=games_quantity_years.values, palette=(\"Set2\"))\n",
    "plt.xlabel('Release Year') ; plt.ylabel('Games Quantity') ; plt.title('Games Quantity for Years')\n",
    "plt.xticks(rotation=45, ha='right')\n",
    "plt.tight_layout()\n",
    "plt.show()"
   ]
  },
  {
   "cell_type": "markdown",
   "metadata": {},
   "source": [
    "**Conclusión**\n",
    "\n",
    "Los lanzamientos de juegos en la plataforma Steam muestran un patrón de concentración entre los años 2003, con un incremento significativo hasta 2017, y una disminución de registros después de ese punto. 2017 fue el año con la mayor cantidad de juegos lanzados."
   ]
  },
  {
   "cell_type": "markdown",
   "metadata": {},
   "source": [
    "Feature `developer`"
   ]
  },
  {
   "cell_type": "code",
   "execution_count": 9,
   "metadata": {},
   "outputs": [
    {
     "data": {
      "text/plain": [
       "developer\n",
       "Ubisoft - San Francisco                2514\n",
       "SmiteWorks USA, LLC                    2361\n",
       "DL Softworks                            495\n",
       "Ronimo Games                            379\n",
       "Paradox Development Studio              304\n",
       "                                       ... \n",
       "Vicious Cycle Software, Inc.              1\n",
       "Lucid Games,Aspyr (Mac &amp; Linux)       1\n",
       "Xoron GmbH                                1\n",
       "KrossRails,Dovetail Games                 1\n",
       "Katatema,Watson                           1\n",
       "Name: count, Length: 10603, dtype: int64"
      ]
     },
     "execution_count": 9,
     "metadata": {},
     "output_type": "execute_result"
    }
   ],
   "source": [
    "#Se calcula el número de juegos publicados por parte de los desarrolladores.\n",
    "quantity_developer = df_games[\"developer\"].value_counts()\n",
    "quantity_developer"
   ]
  },
  {
   "cell_type": "code",
   "execution_count": 10,
   "metadata": {},
   "outputs": [
    {
     "data": {
      "image/png": "[encoded data removed]",
      "text/plain": [
       "<Figure size 1200x500 with 1 Axes>"
      ]
     },
     "metadata": {},
     "output_type": "display_data"
    }
   ],
   "source": [
    "# Generar una representación gráfica que contenga dos subgráficos, colocados uno junto al otro.\n",
    "plt.figure(figsize=(12, 5))\n",
    "\n",
    "# El primer subgráfico se dedica a los desarrolladores (publishers).\n",
    "plt.subplot(1, 2, 1)\n",
    "quantity_developer[:10].plot(kind='bar', color='pink')\n",
    "plt.xlabel('Developer') ; plt.ylabel('Cantidad de Juegos') ; plt.title('Top 10 Developers')\n",
    "\n",
    "#Mostrar y configurar el espaciado entre los subgráficos.\n",
    "plt.tight_layout()\n",
    "plt.show()"
   ]
  },
  {
   "cell_type": "markdown",
   "metadata": {},
   "source": [
    "**Conclusión**\n",
    "\n",
    "Los principales desarrolladores de juegos en Steam son Ubisoft y SmiteWorks."
   ]
  },
  {
   "cell_type": "markdown",
   "metadata": {},
   "source": [
    "c) Gestión de Variables Numéricas\n",
    "\n",
    "Feature `price`: Corresponde al precio del juego en la plataforma.\n",
    "\n",
    "Tratamiento de Outlier"
   ]
  },
  {
   "cell_type": "code",
   "execution_count": 11,
   "metadata": {},
   "outputs": [
    {
     "data": {
      "text/plain": [
       "0        4.99\n",
       "1        4.99\n",
       "2        4.99\n",
       "3        4.99\n",
       "4        4.99\n",
       "         ... \n",
       "68011    1.99\n",
       "68012    1.99\n",
       "68013    1.99\n",
       "68014    4.99\n",
       "68015    4.99\n",
       "Name: price, Length: 68016, dtype: float64"
      ]
     },
     "execution_count": 11,
     "metadata": {},
     "output_type": "execute_result"
    }
   ],
   "source": [
    "df_games[\"price\"]"
   ]
  },
  {
   "cell_type": "code",
   "execution_count": 12,
   "metadata": {},
   "outputs": [
    {
     "data": {
      "text/plain": [
       "price\n",
       "4.99     9404\n",
       "9.99     8656\n",
       "2.99     7543\n",
       "0.99     6136\n",
       "1.99     5603\n",
       "         ... \n",
       "14.95       1\n",
       "42.99       1\n",
       "26.99       1\n",
       "99.00       1\n",
       "27.49       1\n",
       "Name: count, Length: 135, dtype: int64"
      ]
     },
     "execution_count": 12,
     "metadata": {},
     "output_type": "execute_result"
    }
   ],
   "source": [
    "df_games[\"price\"].value_counts()"
   ]
  },
  {
   "cell_type": "code",
   "execution_count": 13,
   "metadata": {},
   "outputs": [
    {
     "data": {
      "text/html": [
       "<div>\n",
       "<style scoped>\n",
       "    .dataframe tbody tr th:only-of-type {\n",
       "        vertical-align: middle;\n",
       "    }\n",
       "\n",
       "    .dataframe tbody tr th {\n",
       "        vertical-align: top;\n",
       "    }\n",
       "\n",
       "    .dataframe thead th {\n",
       "        text-align: right;\n",
       "    }\n",
       "</style>\n",
       "<table border=\"1\" class=\"dataframe\">\n",
       "  <thead>\n",
       "    <tr style=\"text-align: right;\">\n",
       "      <th></th>\n",
       "      <th>Q1</th>\n",
       "      <th>Q3</th>\n",
       "      <th>IQR</th>\n",
       "    </tr>\n",
       "  </thead>\n",
       "  <tbody>\n",
       "    <tr>\n",
       "      <th>0</th>\n",
       "      <td>2.99</td>\n",
       "      <td>9.99</td>\n",
       "      <td>7.0</td>\n",
       "    </tr>\n",
       "  </tbody>\n",
       "</table>\n",
       "</div>"
      ],
      "text/plain": [
       "     Q1    Q3  IQR\n",
       "0  2.99  9.99  7.0"
      ]
     },
     "execution_count": 13,
     "metadata": {},
     "output_type": "execute_result"
    }
   ],
   "source": [
    "#Buscamos valores atípicos en los precios, pero es importante tener en cuenta que los valores pueden variar significativamente debido a ofertas o juegos gratuitos.\n",
    "\n",
    "# Se calcula el IQR (Rango Intercuartil)\n",
    "Q1 = df_games['price'].quantile(0.25)\n",
    "Q3 = df_games['price'].quantile(0.75)\n",
    "IQR = Q3 - Q1\n",
    "\n",
    "outliers_info = pd.DataFrame({'Q1': [Q1], 'Q3': [Q3], 'IQR': [IQR]}, index=[0])\n",
    "outliers_info"
   ]
  },
  {
   "cell_type": "code",
   "execution_count": 14,
   "metadata": {},
   "outputs": [
    {
     "data": {
      "text/html": [
       "<div>\n",
       "<style scoped>\n",
       "    .dataframe tbody tr th:only-of-type {\n",
       "        vertical-align: middle;\n",
       "    }\n",
       "\n",
       "    .dataframe tbody tr th {\n",
       "        vertical-align: top;\n",
       "    }\n",
       "\n",
       "    .dataframe thead th {\n",
       "        text-align: right;\n",
       "    }\n",
       "</style>\n",
       "<table border=\"1\" class=\"dataframe\">\n",
       "  <thead>\n",
       "    <tr style=\"text-align: right;\">\n",
       "      <th></th>\n",
       "      <th>Upper Bound</th>\n",
       "      <th>Lower Bound</th>\n",
       "    </tr>\n",
       "  </thead>\n",
       "  <tbody>\n",
       "    <tr>\n",
       "      <th>0</th>\n",
       "      <td>20.49</td>\n",
       "      <td>-7.51</td>\n",
       "    </tr>\n",
       "  </tbody>\n",
       "</table>\n",
       "</div>"
      ],
      "text/plain": [
       "   Upper Bound  Lower Bound\n",
       "0        20.49        -7.51"
      ]
     },
     "execution_count": 14,
     "metadata": {},
     "output_type": "execute_result"
    }
   ],
   "source": [
    "#Establecemos el umbral para los valores atípicos.\n",
    "upper_bound = Q3 + 1.5 * IQR\n",
    "lower_bound = Q1 - 1.5 * IQR\n",
    "\n",
    "boundaries_df = pd.DataFrame({'Upper Bound': [upper_bound], 'Lower Bound': [lower_bound]})\n",
    "boundaries_df"
   ]
  },
  {
   "cell_type": "code",
   "execution_count": 15,
   "metadata": {},
   "outputs": [],
   "source": [
    "outliers_upper = df_games[df_games['price'] > upper_bound]\n",
    "outliers_lower = df_games[df_games['price'] < lower_bound]"
   ]
  },
  {
   "cell_type": "code",
   "execution_count": 16,
   "metadata": {},
   "outputs": [
    {
     "data": {
      "text/html": [
       "<div>\n",
       "<style scoped>\n",
       "    .dataframe tbody tr th:only-of-type {\n",
       "        vertical-align: middle;\n",
       "    }\n",
       "\n",
       "    .dataframe tbody tr th {\n",
       "        vertical-align: top;\n",
       "    }\n",
       "\n",
       "    .dataframe thead th {\n",
       "        text-align: right;\n",
       "    }\n",
       "</style>\n",
       "<table border=\"1\" class=\"dataframe\">\n",
       "  <thead>\n",
       "    <tr style=\"text-align: right;\">\n",
       "      <th></th>\n",
       "      <th>item_id</th>\n",
       "      <th>app_name</th>\n",
       "      <th>genres</th>\n",
       "      <th>developer</th>\n",
       "      <th>price</th>\n",
       "      <th>release_year</th>\n",
       "    </tr>\n",
       "  </thead>\n",
       "  <tbody>\n",
       "    <tr>\n",
       "      <th>0</th>\n",
       "      <td>774278</td>\n",
       "      <td>Snow All Access Legend Pass</td>\n",
       "      <td>Free to Play</td>\n",
       "      <td>Poppermost Productions</td>\n",
       "      <td>29.99</td>\n",
       "      <td>2018</td>\n",
       "    </tr>\n",
       "    <tr>\n",
       "      <th>1</th>\n",
       "      <td>774278</td>\n",
       "      <td>Snow All Access Legend Pass</td>\n",
       "      <td>Indie</td>\n",
       "      <td>Poppermost Productions</td>\n",
       "      <td>29.99</td>\n",
       "      <td>2018</td>\n",
       "    </tr>\n",
       "    <tr>\n",
       "      <th>2</th>\n",
       "      <td>774278</td>\n",
       "      <td>Snow All Access Legend Pass</td>\n",
       "      <td>Simulation</td>\n",
       "      <td>Poppermost Productions</td>\n",
       "      <td>29.99</td>\n",
       "      <td>2018</td>\n",
       "    </tr>\n",
       "    <tr>\n",
       "      <th>3</th>\n",
       "      <td>774278</td>\n",
       "      <td>Snow All Access Legend Pass</td>\n",
       "      <td>Sports</td>\n",
       "      <td>Poppermost Productions</td>\n",
       "      <td>29.99</td>\n",
       "      <td>2018</td>\n",
       "    </tr>\n",
       "    <tr>\n",
       "      <th>4</th>\n",
       "      <td>774279</td>\n",
       "      <td>Snow Lifetime Pack</td>\n",
       "      <td>Free to Play</td>\n",
       "      <td>Poppermost Productions</td>\n",
       "      <td>59.99</td>\n",
       "      <td>2018</td>\n",
       "    </tr>\n",
       "    <tr>\n",
       "      <th>...</th>\n",
       "      <td>...</td>\n",
       "      <td>...</td>\n",
       "      <td>...</td>\n",
       "      <td>...</td>\n",
       "      <td>...</td>\n",
       "      <td>...</td>\n",
       "    </tr>\n",
       "    <tr>\n",
       "      <th>4042</th>\n",
       "      <td>719590</td>\n",
       "      <td>Mesozoica</td>\n",
       "      <td>Simulation</td>\n",
       "      <td>DreamInCode B.V.,Squadron Interactive</td>\n",
       "      <td>29.99</td>\n",
       "      <td>2018</td>\n",
       "    </tr>\n",
       "    <tr>\n",
       "      <th>4043</th>\n",
       "      <td>719590</td>\n",
       "      <td>Mesozoica</td>\n",
       "      <td>Strategy</td>\n",
       "      <td>DreamInCode B.V.,Squadron Interactive</td>\n",
       "      <td>29.99</td>\n",
       "      <td>2018</td>\n",
       "    </tr>\n",
       "    <tr>\n",
       "      <th>4044</th>\n",
       "      <td>719590</td>\n",
       "      <td>Mesozoica</td>\n",
       "      <td>Early Access</td>\n",
       "      <td>DreamInCode B.V.,Squadron Interactive</td>\n",
       "      <td>29.99</td>\n",
       "      <td>2018</td>\n",
       "    </tr>\n",
       "    <tr>\n",
       "      <th>4045</th>\n",
       "      <td>755310</td>\n",
       "      <td>Cyberlink Youcam Deluxe</td>\n",
       "      <td>Utilities</td>\n",
       "      <td>CyberLink</td>\n",
       "      <td>29.99</td>\n",
       "      <td>2017</td>\n",
       "    </tr>\n",
       "    <tr>\n",
       "      <th>4046</th>\n",
       "      <td>755310</td>\n",
       "      <td>Cyberlink Youcam Deluxe</td>\n",
       "      <td>Video Production</td>\n",
       "      <td>CyberLink</td>\n",
       "      <td>29.99</td>\n",
       "      <td>2017</td>\n",
       "    </tr>\n",
       "  </tbody>\n",
       "</table>\n",
       "<p>4047 rows × 6 columns</p>\n",
       "</div>"
      ],
      "text/plain": [
       "      item_id                     app_name            genres  \\\n",
       "0      774278  Snow All Access Legend Pass      Free to Play   \n",
       "1      774278  Snow All Access Legend Pass             Indie   \n",
       "2      774278  Snow All Access Legend Pass        Simulation   \n",
       "3      774278  Snow All Access Legend Pass            Sports   \n",
       "4      774279           Snow Lifetime Pack      Free to Play   \n",
       "...       ...                          ...               ...   \n",
       "4042   719590                    Mesozoica        Simulation   \n",
       "4043   719590                    Mesozoica          Strategy   \n",
       "4044   719590                    Mesozoica      Early Access   \n",
       "4045   755310      Cyberlink Youcam Deluxe         Utilities   \n",
       "4046   755310      Cyberlink Youcam Deluxe  Video Production   \n",
       "\n",
       "                                  developer  price  release_year  \n",
       "0                    Poppermost Productions  29.99          2018  \n",
       "1                    Poppermost Productions  29.99          2018  \n",
       "2                    Poppermost Productions  29.99          2018  \n",
       "3                    Poppermost Productions  29.99          2018  \n",
       "4                    Poppermost Productions  59.99          2018  \n",
       "...                                     ...    ...           ...  \n",
       "4042  DreamInCode B.V.,Squadron Interactive  29.99          2018  \n",
       "4043  DreamInCode B.V.,Squadron Interactive  29.99          2018  \n",
       "4044  DreamInCode B.V.,Squadron Interactive  29.99          2018  \n",
       "4045                              CyberLink  29.99          2017  \n",
       "4046                              CyberLink  29.99          2017  \n",
       "\n",
       "[4047 rows x 6 columns]"
      ]
     },
     "execution_count": 16,
     "metadata": {},
     "output_type": "execute_result"
    }
   ],
   "source": [
    "outliers_upper.reset_index(drop=True, inplace=True)\n",
    "outliers_upper"
   ]
  },
  {
   "cell_type": "code",
   "execution_count": 17,
   "metadata": {},
   "outputs": [
    {
     "data": {
      "text/html": [
       "<div>\n",
       "<style scoped>\n",
       "    .dataframe tbody tr th:only-of-type {\n",
       "        vertical-align: middle;\n",
       "    }\n",
       "\n",
       "    .dataframe tbody tr th {\n",
       "        vertical-align: top;\n",
       "    }\n",
       "\n",
       "    .dataframe thead th {\n",
       "        text-align: right;\n",
       "    }\n",
       "</style>\n",
       "<table border=\"1\" class=\"dataframe\">\n",
       "  <thead>\n",
       "    <tr style=\"text-align: right;\">\n",
       "      <th></th>\n",
       "      <th>item_id</th>\n",
       "      <th>app_name</th>\n",
       "      <th>genres</th>\n",
       "      <th>developer</th>\n",
       "      <th>price</th>\n",
       "      <th>release_year</th>\n",
       "    </tr>\n",
       "  </thead>\n",
       "  <tbody>\n",
       "  </tbody>\n",
       "</table>\n",
       "</div>"
      ],
      "text/plain": [
       "Empty DataFrame\n",
       "Columns: [item_id, app_name, genres, developer, price, release_year]\n",
       "Index: []"
      ]
     },
     "execution_count": 17,
     "metadata": {},
     "output_type": "execute_result"
    }
   ],
   "source": [
    "outliers_lower.reset_index(drop=True, inplace=True)\n",
    "outliers_lower"
   ]
  },
  {
   "cell_type": "markdown",
   "metadata": {},
   "source": [
    "A continuación, generamos dos tipos de gráficos:\n",
    "\n",
    "- Un `Stripplot` que permite observar la distribución de los precios de los juegos.\n",
    "- Un `Boxplot` que proporciona un resumen estadístico de estos precios."
   ]
  },
  {
   "cell_type": "code",
   "execution_count": 21,
   "metadata": {},
   "outputs": [
    {
     "data": {
      "image/png": "[encoded data removed]",
      "text/plain": [
       "<Figure size 1400x800 with 2 Axes>"
      ]
     },
     "metadata": {},
     "output_type": "display_data"
    }
   ],
   "source": [
    "#Recopila los precios de cada juego y crea un marco de datos (dataframe) al respecto.\n",
    "price = df_games.groupby('item_id')['price'].unique().reset_index().explode('price')\n",
    "\n",
    "fig = plt.figure(figsize=(14, 8))\n",
    "\n",
    "#Stripplot para visualizar la distribución de los precios.\n",
    "axis1 = fig.add_subplot(211)\n",
    "sns.stripplot(data=price, x='price', ax=axis1, color=\"green\")\n",
    "axis1.set_xlabel('Price')\n",
    "axis1.set_ylabel('Games Quantity')\n",
    "axis1.set_title('Game price distribution')\n",
    "\n",
    "#Boxplot para representar medidas estadísticas.\n",
    "axis2 = fig.add_subplot(212, sharex=axis1)\n",
    "sns.boxplot(data=price, x='price', ax=axis2, color=\"blue\")\n",
    "axis2.set_xlabel('Price')\n",
    "axis2.set_ylabel('Games Quantity')\n",
    "axis2.set_title('Statistical measures of game prices')\n",
    "\n",
    "#Muestra y ajusta el espaciado entre los subgráficos.\n",
    "plt.tight_layout()\n",
    "plt.show()"
   ]
  },
  {
   "cell_type": "code",
   "execution_count": 22,
   "metadata": {},
   "outputs": [
    {
     "data": {
      "text/html": [
       "<div>\n",
       "<style scoped>\n",
       "    .dataframe tbody tr th:only-of-type {\n",
       "        vertical-align: middle;\n",
       "    }\n",
       "\n",
       "    .dataframe tbody tr th {\n",
       "        vertical-align: top;\n",
       "    }\n",
       "\n",
       "    .dataframe thead th {\n",
       "        text-align: right;\n",
       "    }\n",
       "</style>\n",
       "<table border=\"1\" class=\"dataframe\">\n",
       "  <thead>\n",
       "    <tr style=\"text-align: right;\">\n",
       "      <th></th>\n",
       "      <th>item_id</th>\n",
       "      <th>price</th>\n",
       "    </tr>\n",
       "  </thead>\n",
       "  <tbody>\n",
       "    <tr>\n",
       "      <th>count</th>\n",
       "      <td>6.614500e+04</td>\n",
       "      <td>66145.000000</td>\n",
       "    </tr>\n",
       "    <tr>\n",
       "      <th>mean</th>\n",
       "      <td>4.616991e+05</td>\n",
       "      <td>9.094640</td>\n",
       "    </tr>\n",
       "    <tr>\n",
       "      <th>std</th>\n",
       "      <td>1.748304e+05</td>\n",
       "      <td>16.200865</td>\n",
       "    </tr>\n",
       "    <tr>\n",
       "      <th>min</th>\n",
       "      <td>1.000000e+01</td>\n",
       "      <td>0.000000</td>\n",
       "    </tr>\n",
       "    <tr>\n",
       "      <th>25%</th>\n",
       "      <td>3.404400e+05</td>\n",
       "      <td>2.990000</td>\n",
       "    </tr>\n",
       "    <tr>\n",
       "      <th>50%</th>\n",
       "      <td>4.571920e+05</td>\n",
       "      <td>4.990000</td>\n",
       "    </tr>\n",
       "    <tr>\n",
       "      <th>75%</th>\n",
       "      <td>5.976100e+05</td>\n",
       "      <td>9.990000</td>\n",
       "    </tr>\n",
       "    <tr>\n",
       "      <th>max</th>\n",
       "      <td>2.028850e+06</td>\n",
       "      <td>995.000000</td>\n",
       "    </tr>\n",
       "  </tbody>\n",
       "</table>\n",
       "</div>"
      ],
      "text/plain": [
       "            item_id         price\n",
       "count  6.614500e+04  66145.000000\n",
       "mean   4.616991e+05      9.094640\n",
       "std    1.748304e+05     16.200865\n",
       "min    1.000000e+01      0.000000\n",
       "25%    3.404400e+05      2.990000\n",
       "50%    4.571920e+05      4.990000\n",
       "75%    5.976100e+05      9.990000\n",
       "max    2.028850e+06    995.000000"
      ]
     },
     "execution_count": 22,
     "metadata": {},
     "output_type": "execute_result"
    }
   ],
   "source": [
    "df_games.describe()"
   ]
  },
  {
   "cell_type": "code",
   "execution_count": 18,
   "metadata": {},
   "outputs": [
    {
     "name": "stderr",
     "output_type": "stream",
     "text": [
      "C:\\Users\\Mayra\\AppData\\Local\\Temp\\ipykernel_10580\\2858321572.py:3: FutureWarning: \n",
      "\n",
      "Passing `palette` without assigning `hue` is deprecated and will be removed in v0.14.0. Assign the `y` variable to `hue` and set `legend=False` for the same effect.\n",
      "\n",
      "  sns.boxplot(data=df_games, x='price',palette='Set2')\n"
     ]
    },
    {
     "data": {
      "image/png": "[encoded data removed]",
      "text/plain": [
       "<Figure size 1400x400 with 1 Axes>"
      ]
     },
     "metadata": {},
     "output_type": "display_data"
    }
   ],
   "source": [
    "fig = plt.figure(figsize=(14, 4))\n",
    "\n",
    "sns.boxplot(data=df_games, x='price',palette='Set2')\n",
    "plt.show()"
   ]
  },
  {
   "cell_type": "markdown",
   "metadata": {},
   "source": [
    "**Conclusión**\n",
    "\n",
    "- El precio promedio de los juegos es de 9.09.\n",
    "- El 50% de los precios de los juegos de Steam se sitúa en un rango de 0 a 4.99.\n",
    "- El 75% de los precios de los juegos de Steam son inferiores a 9.99.\n",
    "- El precio máximo alcanza los 995.00.\n",
    "- Se identifican 4,076 valores atípicos en la parte superior del rango de precios."
   ]
  },
  {
   "cell_type": "markdown",
   "metadata": {},
   "source": [
    "#### **2. Exploración de Datos de user_reviews.parquet**\n",
    "\n",
    "a) Extracción y Evaluación de Valores Nulos y Duplicados\n",
    "\n",
    "Se procede a recuperar el conjunto de datos resultante después del proceso ETL con el fin de analizar la presencia de valores nulos y duplicados."
   ]
  },
  {
   "cell_type": "code",
   "execution_count": 19,
   "metadata": {},
   "outputs": [
    {
     "data": {
      "text/html": [
       "<div>\n",
       "<style scoped>\n",
       "    .dataframe tbody tr th:only-of-type {\n",
       "        vertical-align: middle;\n",
       "    }\n",
       "\n",
       "    .dataframe tbody tr th {\n",
       "        vertical-align: top;\n",
       "    }\n",
       "\n",
       "    .dataframe thead th {\n",
       "        text-align: right;\n",
       "    }\n",
       "</style>\n",
       "<table border=\"1\" class=\"dataframe\">\n",
       "  <thead>\n",
       "    <tr style=\"text-align: right;\">\n",
       "      <th></th>\n",
       "      <th>user_id</th>\n",
       "      <th>item_id</th>\n",
       "      <th>recommend</th>\n",
       "      <th>posted</th>\n",
       "      <th>sentiment_analisis</th>\n",
       "    </tr>\n",
       "  </thead>\n",
       "  <tbody>\n",
       "    <tr>\n",
       "      <th>0</th>\n",
       "      <td>76561197970982479</td>\n",
       "      <td>1250</td>\n",
       "      <td>True</td>\n",
       "      <td>2011</td>\n",
       "      <td>2</td>\n",
       "    </tr>\n",
       "    <tr>\n",
       "      <th>1</th>\n",
       "      <td>76561197970982479</td>\n",
       "      <td>22200</td>\n",
       "      <td>True</td>\n",
       "      <td>2011</td>\n",
       "      <td>2</td>\n",
       "    </tr>\n",
       "    <tr>\n",
       "      <th>2</th>\n",
       "      <td>76561197970982479</td>\n",
       "      <td>43110</td>\n",
       "      <td>True</td>\n",
       "      <td>2011</td>\n",
       "      <td>1</td>\n",
       "    </tr>\n",
       "    <tr>\n",
       "      <th>3</th>\n",
       "      <td>js41637</td>\n",
       "      <td>251610</td>\n",
       "      <td>True</td>\n",
       "      <td>2014</td>\n",
       "      <td>2</td>\n",
       "    </tr>\n",
       "    <tr>\n",
       "      <th>4</th>\n",
       "      <td>js41637</td>\n",
       "      <td>227300</td>\n",
       "      <td>True</td>\n",
       "      <td>2013</td>\n",
       "      <td>1</td>\n",
       "    </tr>\n",
       "    <tr>\n",
       "      <th>...</th>\n",
       "      <td>...</td>\n",
       "      <td>...</td>\n",
       "      <td>...</td>\n",
       "      <td>...</td>\n",
       "      <td>...</td>\n",
       "    </tr>\n",
       "    <tr>\n",
       "      <th>48493</th>\n",
       "      <td>wayfeng</td>\n",
       "      <td>730</td>\n",
       "      <td>True</td>\n",
       "      <td>2015</td>\n",
       "      <td>1</td>\n",
       "    </tr>\n",
       "    <tr>\n",
       "      <th>48494</th>\n",
       "      <td>76561198251004808</td>\n",
       "      <td>253980</td>\n",
       "      <td>True</td>\n",
       "      <td>2015</td>\n",
       "      <td>2</td>\n",
       "    </tr>\n",
       "    <tr>\n",
       "      <th>48495</th>\n",
       "      <td>72947282842</td>\n",
       "      <td>730</td>\n",
       "      <td>True</td>\n",
       "      <td>2015</td>\n",
       "      <td>0</td>\n",
       "    </tr>\n",
       "    <tr>\n",
       "      <th>48496</th>\n",
       "      <td>ApxLGhost</td>\n",
       "      <td>730</td>\n",
       "      <td>True</td>\n",
       "      <td>2015</td>\n",
       "      <td>2</td>\n",
       "    </tr>\n",
       "    <tr>\n",
       "      <th>48497</th>\n",
       "      <td>76561198267374962</td>\n",
       "      <td>369200</td>\n",
       "      <td>True</td>\n",
       "      <td>2015</td>\n",
       "      <td>2</td>\n",
       "    </tr>\n",
       "  </tbody>\n",
       "</table>\n",
       "<p>48498 rows × 5 columns</p>\n",
       "</div>"
      ],
      "text/plain": [
       "                 user_id  item_id  recommend  posted  sentiment_analisis\n",
       "0      76561197970982479     1250       True    2011                   2\n",
       "1      76561197970982479    22200       True    2011                   2\n",
       "2      76561197970982479    43110       True    2011                   1\n",
       "3                js41637   251610       True    2014                   2\n",
       "4                js41637   227300       True    2013                   1\n",
       "...                  ...      ...        ...     ...                 ...\n",
       "48493            wayfeng      730       True    2015                   1\n",
       "48494  76561198251004808   253980       True    2015                   2\n",
       "48495        72947282842      730       True    2015                   0\n",
       "48496          ApxLGhost      730       True    2015                   2\n",
       "48497  76561198267374962   369200       True    2015                   2\n",
       "\n",
       "[48498 rows x 5 columns]"
      ]
     },
     "execution_count": 19,
     "metadata": {},
     "output_type": "execute_result"
    }
   ],
   "source": [
    "df_reviews = pd.read_parquet(\"data/reviews.parquet\")\n",
    "df_reviews"
   ]
  },
  {
   "cell_type": "code",
   "execution_count": 20,
   "metadata": {},
   "outputs": [
    {
     "name": "stdout",
     "output_type": "stream",
     "text": [
      "<class 'pandas.core.frame.DataFrame'>\n",
      "RangeIndex: 48498 entries, 0 to 48497\n",
      "Data columns (total 5 columns):\n",
      " #   Column              Non-Null Count  Dtype \n",
      "---  ------              --------------  ----- \n",
      " 0   user_id             48498 non-null  object\n",
      " 1   item_id             48498 non-null  int64 \n",
      " 2   recommend           48498 non-null  bool  \n",
      " 3   posted              48498 non-null  int64 \n",
      " 4   sentiment_analisis  48498 non-null  int64 \n",
      "dtypes: bool(1), int64(3), object(1)\n",
      "memory usage: 1.5+ MB\n"
     ]
    }
   ],
   "source": [
    "#Se proporciona información acerca del número de columnas y la naturaleza de los datos que estas contienen.\n",
    "df_reviews.info()"
   ]
  },
  {
   "cell_type": "markdown",
   "metadata": {},
   "source": [
    "Buscamos nulos y duplicados"
   ]
  },
  {
   "cell_type": "code",
   "execution_count": 21,
   "metadata": {},
   "outputs": [
    {
     "data": {
      "text/plain": [
       "user_id               0\n",
       "item_id               0\n",
       "recommend             0\n",
       "posted                0\n",
       "sentiment_analisis    0\n",
       "dtype: int64"
      ]
     },
     "execution_count": 21,
     "metadata": {},
     "output_type": "execute_result"
    }
   ],
   "source": [
    "df_reviews.isnull().sum()"
   ]
  },
  {
   "cell_type": "markdown",
   "metadata": {},
   "source": [
    "b) Manejo de Variables Categóricas\n",
    "\n",
    "- `user_id`: Es la identificación del usuario en la plataforma.\n",
    "- `recommend`: Representa un valor booleano que indica si se ha realizado una revisión.\n",
    "- `sentiment_analysis`: Refleja la clasificación de las revisiones en:\n",
    "\n",
    "Positivo: 2 Negativo: 0 Neutral: 1\n",
    "\n",
    "Feature `user_id`"
   ]
  },
  {
   "cell_type": "code",
   "execution_count": 22,
   "metadata": {},
   "outputs": [
    {
     "data": {
      "text/plain": [
       "22795"
      ]
     },
     "execution_count": 22,
     "metadata": {},
     "output_type": "execute_result"
    }
   ],
   "source": [
    "# se contabiliza la cantidad de usuarios de juegos Steam que hay en la plataforma \n",
    "quantity_user_reviews = len(df_reviews[\"user_id\"].unique())\n",
    "quantity_user_reviews"
   ]
  },
  {
   "cell_type": "markdown",
   "metadata": {},
   "source": [
    "Conclusión\n",
    "\n",
    "En la plataforma de juegos, existen 22,795 usuarios con identificadores únicos (user_id) registrados."
   ]
  },
  {
   "cell_type": "markdown",
   "metadata": {},
   "source": [
    "Feature `recommend`\n",
    "\n",
    "Se procede a contar la cantidad de recomendaciones realizadas."
   ]
  },
  {
   "cell_type": "code",
   "execution_count": 23,
   "metadata": {},
   "outputs": [
    {
     "data": {
      "text/plain": [
       "recommend\n",
       "True     43557\n",
       "False     4941\n",
       "Name: count, dtype: int64"
      ]
     },
     "execution_count": 23,
     "metadata": {},
     "output_type": "execute_result"
    }
   ],
   "source": [
    "recommended_quantity = df_reviews[\"recommend\"].value_counts()\n",
    "recommended_quantity"
   ]
  },
  {
   "cell_type": "markdown",
   "metadata": {},
   "source": [
    "Conclusión\n",
    "\n",
    "Los usuarios han efectuado un total de 43,557 recomendaciones, lo que sugiere que cada user_id ha realizado más de una recomendación de juego."
   ]
  },
  {
   "cell_type": "markdown",
   "metadata": {},
   "source": [
    "Feature `sentiment_analisis`"
   ]
  },
  {
   "cell_type": "code",
   "execution_count": 24,
   "metadata": {},
   "outputs": [
    {
     "data": {
      "text/plain": [
       "sentiment_analisis\n",
       "2    21945\n",
       "1    20127\n",
       "0     6426\n",
       "Name: count, dtype: int64"
      ]
     },
     "execution_count": 24,
     "metadata": {},
     "output_type": "execute_result"
    }
   ],
   "source": [
    "#realizo el conteo de cada una de las categorias de sentimientos\n",
    "quantity_feeling = df_reviews[\"sentiment_analisis\"].value_counts()\n",
    "quantity_feeling"
   ]
  },
  {
   "cell_type": "markdown",
   "metadata": {},
   "source": [
    "Conclusión\n",
    "\n",
    "Hubo 21,945 revisiones con sentimientos positivos, 20,127 revisiones con sentimientos neutrales y 6,426 revisiones con sentimientos negativos."
   ]
  },
  {
   "cell_type": "markdown",
   "metadata": {},
   "source": [
    "#### **3. Exploración de Datos de user_items.parquet**\n",
    "\n",
    "a) Extracción y Evaluación de Valores Nulos y Duplicados\n",
    "\n",
    "Se procede a recuperar el conjunto de datos resultante después del proceso ETL con el objetivo de analizar la existencia de valores nulos y duplicados."
   ]
  },
  {
   "cell_type": "code",
   "execution_count": 25,
   "metadata": {},
   "outputs": [
    {
     "data": {
      "text/html": [
       "<div>\n",
       "<style scoped>\n",
       "    .dataframe tbody tr th:only-of-type {\n",
       "        vertical-align: middle;\n",
       "    }\n",
       "\n",
       "    .dataframe tbody tr th {\n",
       "        vertical-align: top;\n",
       "    }\n",
       "\n",
       "    .dataframe thead th {\n",
       "        text-align: right;\n",
       "    }\n",
       "</style>\n",
       "<table border=\"1\" class=\"dataframe\">\n",
       "  <thead>\n",
       "    <tr style=\"text-align: right;\">\n",
       "      <th></th>\n",
       "      <th>user_id</th>\n",
       "      <th>item_id</th>\n",
       "      <th>playtime_forever</th>\n",
       "    </tr>\n",
       "  </thead>\n",
       "  <tbody>\n",
       "    <tr>\n",
       "      <th>0</th>\n",
       "      <td>76561197970982479</td>\n",
       "      <td>10</td>\n",
       "      <td>6</td>\n",
       "    </tr>\n",
       "    <tr>\n",
       "      <th>1</th>\n",
       "      <td>76561197970982479</td>\n",
       "      <td>30</td>\n",
       "      <td>7</td>\n",
       "    </tr>\n",
       "    <tr>\n",
       "      <th>2</th>\n",
       "      <td>76561197970982479</td>\n",
       "      <td>300</td>\n",
       "      <td>4733</td>\n",
       "    </tr>\n",
       "    <tr>\n",
       "      <th>3</th>\n",
       "      <td>76561197970982479</td>\n",
       "      <td>240</td>\n",
       "      <td>1853</td>\n",
       "    </tr>\n",
       "    <tr>\n",
       "      <th>4</th>\n",
       "      <td>76561197970982479</td>\n",
       "      <td>3830</td>\n",
       "      <td>333</td>\n",
       "    </tr>\n",
       "    <tr>\n",
       "      <th>...</th>\n",
       "      <td>...</td>\n",
       "      <td>...</td>\n",
       "      <td>...</td>\n",
       "    </tr>\n",
       "    <tr>\n",
       "      <th>3246357</th>\n",
       "      <td>76561198329548331</td>\n",
       "      <td>304930</td>\n",
       "      <td>677</td>\n",
       "    </tr>\n",
       "    <tr>\n",
       "      <th>3246358</th>\n",
       "      <td>76561198329548331</td>\n",
       "      <td>227940</td>\n",
       "      <td>43</td>\n",
       "    </tr>\n",
       "    <tr>\n",
       "      <th>3246359</th>\n",
       "      <td>76561198329548331</td>\n",
       "      <td>388490</td>\n",
       "      <td>3</td>\n",
       "    </tr>\n",
       "    <tr>\n",
       "      <th>3246360</th>\n",
       "      <td>76561198329548331</td>\n",
       "      <td>521570</td>\n",
       "      <td>4</td>\n",
       "    </tr>\n",
       "    <tr>\n",
       "      <th>3246361</th>\n",
       "      <td>76561198329548331</td>\n",
       "      <td>519140</td>\n",
       "      <td>3</td>\n",
       "    </tr>\n",
       "  </tbody>\n",
       "</table>\n",
       "<p>3246362 rows × 3 columns</p>\n",
       "</div>"
      ],
      "text/plain": [
       "                   user_id  item_id  playtime_forever\n",
       "0        76561197970982479       10                 6\n",
       "1        76561197970982479       30                 7\n",
       "2        76561197970982479      300              4733\n",
       "3        76561197970982479      240              1853\n",
       "4        76561197970982479     3830               333\n",
       "...                    ...      ...               ...\n",
       "3246357  76561198329548331   304930               677\n",
       "3246358  76561198329548331   227940                43\n",
       "3246359  76561198329548331   388490                 3\n",
       "3246360  76561198329548331   521570                 4\n",
       "3246361  76561198329548331   519140                 3\n",
       "\n",
       "[3246362 rows x 3 columns]"
      ]
     },
     "execution_count": 25,
     "metadata": {},
     "output_type": "execute_result"
    }
   ],
   "source": [
    "df_items=pd.read_parquet(\"data/user_items.parquet\")\n",
    "df_items"
   ]
  },
  {
   "cell_type": "code",
   "execution_count": 26,
   "metadata": {},
   "outputs": [
    {
     "name": "stdout",
     "output_type": "stream",
     "text": [
      "<class 'pandas.core.frame.DataFrame'>\n",
      "RangeIndex: 3246362 entries, 0 to 3246361\n",
      "Data columns (total 3 columns):\n",
      " #   Column            Dtype \n",
      "---  ------            ----- \n",
      " 0   user_id           object\n",
      " 1   item_id           int64 \n",
      " 2   playtime_forever  int64 \n",
      "dtypes: int64(2), object(1)\n",
      "memory usage: 74.3+ MB\n"
     ]
    }
   ],
   "source": [
    "df_items.info()"
   ]
  },
  {
   "cell_type": "code",
   "execution_count": 27,
   "metadata": {},
   "outputs": [
    {
     "data": {
      "text/html": [
       "<div>\n",
       "<style scoped>\n",
       "    .dataframe tbody tr th:only-of-type {\n",
       "        vertical-align: middle;\n",
       "    }\n",
       "\n",
       "    .dataframe tbody tr th {\n",
       "        vertical-align: top;\n",
       "    }\n",
       "\n",
       "    .dataframe thead th {\n",
       "        text-align: right;\n",
       "    }\n",
       "</style>\n",
       "<table border=\"1\" class=\"dataframe\">\n",
       "  <thead>\n",
       "    <tr style=\"text-align: right;\">\n",
       "      <th></th>\n",
       "      <th>item_id</th>\n",
       "      <th>playtime_forever</th>\n",
       "    </tr>\n",
       "  </thead>\n",
       "  <tbody>\n",
       "    <tr>\n",
       "      <th>count</th>\n",
       "      <td>3.246362e+06</td>\n",
       "      <td>3.246362e+06</td>\n",
       "    </tr>\n",
       "    <tr>\n",
       "      <th>mean</th>\n",
       "      <td>1.771685e+05</td>\n",
       "      <td>1.554285e+03</td>\n",
       "    </tr>\n",
       "    <tr>\n",
       "      <th>std</th>\n",
       "      <td>1.266634e+05</td>\n",
       "      <td>6.717154e+03</td>\n",
       "    </tr>\n",
       "    <tr>\n",
       "      <th>min</th>\n",
       "      <td>1.000000e+01</td>\n",
       "      <td>1.000000e+00</td>\n",
       "    </tr>\n",
       "    <tr>\n",
       "      <th>25%</th>\n",
       "      <td>3.912000e+04</td>\n",
       "      <td>4.400000e+01</td>\n",
       "    </tr>\n",
       "    <tr>\n",
       "      <th>50%</th>\n",
       "      <td>2.149500e+05</td>\n",
       "      <td>2.050000e+02</td>\n",
       "    </tr>\n",
       "    <tr>\n",
       "      <th>75%</th>\n",
       "      <td>2.630200e+05</td>\n",
       "      <td>8.080000e+02</td>\n",
       "    </tr>\n",
       "    <tr>\n",
       "      <th>max</th>\n",
       "      <td>5.286600e+05</td>\n",
       "      <td>6.427730e+05</td>\n",
       "    </tr>\n",
       "  </tbody>\n",
       "</table>\n",
       "</div>"
      ],
      "text/plain": [
       "            item_id  playtime_forever\n",
       "count  3.246362e+06      3.246362e+06\n",
       "mean   1.771685e+05      1.554285e+03\n",
       "std    1.266634e+05      6.717154e+03\n",
       "min    1.000000e+01      1.000000e+00\n",
       "25%    3.912000e+04      4.400000e+01\n",
       "50%    2.149500e+05      2.050000e+02\n",
       "75%    2.630200e+05      8.080000e+02\n",
       "max    5.286600e+05      6.427730e+05"
      ]
     },
     "execution_count": 27,
     "metadata": {},
     "output_type": "execute_result"
    }
   ],
   "source": [
    "df_items.describe()"
   ]
  },
  {
   "cell_type": "code",
   "execution_count": 28,
   "metadata": {},
   "outputs": [
    {
     "data": {
      "text/plain": [
       "user_id             0\n",
       "item_id             0\n",
       "playtime_forever    0\n",
       "dtype: int64"
      ]
     },
     "execution_count": 28,
     "metadata": {},
     "output_type": "execute_result"
    }
   ],
   "source": [
    "df_items.isnull().sum()"
   ]
  },
  {
   "cell_type": "markdown",
   "metadata": {},
   "source": [
    "b) Gestión de Variables Numéricas\n",
    "\n",
    "- playtime_forever: Representa la cantidad de tiempo que un usuario juega.\n",
    "\n",
    "Feature `playtime_forever`"
   ]
  },
  {
   "cell_type": "code",
   "execution_count": 29,
   "metadata": {},
   "outputs": [
    {
     "data": {
      "text/html": [
       "<div>\n",
       "<style scoped>\n",
       "    .dataframe tbody tr th:only-of-type {\n",
       "        vertical-align: middle;\n",
       "    }\n",
       "\n",
       "    .dataframe tbody tr th {\n",
       "        vertical-align: top;\n",
       "    }\n",
       "\n",
       "    .dataframe thead th {\n",
       "        text-align: right;\n",
       "    }\n",
       "</style>\n",
       "<table border=\"1\" class=\"dataframe\">\n",
       "  <thead>\n",
       "    <tr style=\"text-align: right;\">\n",
       "      <th></th>\n",
       "      <th>playtime_forever</th>\n",
       "    </tr>\n",
       "    <tr>\n",
       "      <th>user_id</th>\n",
       "      <th></th>\n",
       "    </tr>\n",
       "  </thead>\n",
       "  <tbody>\n",
       "    <tr>\n",
       "      <th>wolop</th>\n",
       "      <td>642773</td>\n",
       "    </tr>\n",
       "    <tr>\n",
       "      <th>Evilutional</th>\n",
       "      <td>635295</td>\n",
       "    </tr>\n",
       "    <tr>\n",
       "      <th>76561198019826668</th>\n",
       "      <td>632452</td>\n",
       "    </tr>\n",
       "    <tr>\n",
       "      <th>76561198039832932</th>\n",
       "      <td>613411</td>\n",
       "    </tr>\n",
       "    <tr>\n",
       "      <th>tsunamitad</th>\n",
       "      <td>600068</td>\n",
       "    </tr>\n",
       "    <tr>\n",
       "      <th>...</th>\n",
       "      <td>...</td>\n",
       "    </tr>\n",
       "    <tr>\n",
       "      <th>76561198078062945</th>\n",
       "      <td>1</td>\n",
       "    </tr>\n",
       "    <tr>\n",
       "      <th>76561198101995099</th>\n",
       "      <td>1</td>\n",
       "    </tr>\n",
       "    <tr>\n",
       "      <th>76561198066935199</th>\n",
       "      <td>1</td>\n",
       "    </tr>\n",
       "    <tr>\n",
       "      <th>76561198051717662</th>\n",
       "      <td>1</td>\n",
       "    </tr>\n",
       "    <tr>\n",
       "      <th>76561197972059969</th>\n",
       "      <td>1</td>\n",
       "    </tr>\n",
       "  </tbody>\n",
       "</table>\n",
       "<p>2823404 rows × 1 columns</p>\n",
       "</div>"
      ],
      "text/plain": [
       "                  playtime_forever\n",
       "user_id                           \n",
       "wolop                       642773\n",
       "Evilutional                 635295\n",
       "76561198019826668           632452\n",
       "76561198039832932           613411\n",
       "tsunamitad                  600068\n",
       "...                            ...\n",
       "76561198078062945                1\n",
       "76561198101995099                1\n",
       "76561198066935199                1\n",
       "76561198051717662                1\n",
       "76561197972059969                1\n",
       "\n",
       "[2823404 rows x 1 columns]"
      ]
     },
     "execution_count": 29,
     "metadata": {},
     "output_type": "execute_result"
    }
   ],
   "source": [
    "#Agrupa a los usuarios por tiempo, almacena esta información en un nuevo marco de datos y ordena los resultados.\n",
    "time_count = df_items.groupby('user_id')['playtime_forever'].unique().explode()\n",
    "time_count= pd.DataFrame(time_count)\n",
    "time_count_user = time_count.sort_values('playtime_forever', ascending=False)\n",
    "time_count_user"
   ]
  },
  {
   "cell_type": "code",
   "execution_count": 30,
   "metadata": {},
   "outputs": [
    {
     "name": "stderr",
     "output_type": "stream",
     "text": [
      "C:\\Users\\Mayra\\AppData\\Local\\Temp\\ipykernel_10580\\1007933754.py:8: FutureWarning: \n",
      "\n",
      "Passing `palette` without assigning `hue` is deprecated and will be removed in v0.14.0. Assign the `y` variable to `hue` and set `legend=False` for the same effect.\n",
      "\n",
      "  sns.boxplot(data=time_count_user, x='playtime_forever', ax=ax2, palette=\"plasma\")\n"
     ]
    },
    {
     "data": {
      "image/png": "[encoded data removed]",
      "text/plain": [
       "<Figure size 1400x400 with 2 Axes>"
      ]
     },
     "metadata": {},
     "output_type": "display_data"
    }
   ],
   "source": [
    "fig = plt.figure(figsize=(14, 4))\n",
    "\n",
    "ax1 = fig.add_subplot(211)\n",
    "sns.stripplot(data=time_count_user, x='playtime_forever', ax=ax1, color=\"orange\")\n",
    "ax1.set_xlabel('playtime_forever') ; ax1.set_title('Cantidad de tiempo por usuarios')\n",
    "\n",
    "ax2 = fig.add_subplot(212, sharex=ax1)\n",
    "sns.boxplot(data=time_count_user, x='playtime_forever', ax=ax2, palette=\"plasma\")\n",
    "ax2.set_xlabel('playtime_forever')\n",
    "\n",
    "#Muestra y ajusta el espaciado entre los subgráficos.\n",
    "plt.tight_layout()\n",
    "plt.show()"
   ]
  },
  {
   "cell_type": "code",
   "execution_count": 31,
   "metadata": {},
   "outputs": [
    {
     "data": {
      "text/html": [
       "<div>\n",
       "<style scoped>\n",
       "    .dataframe tbody tr th:only-of-type {\n",
       "        vertical-align: middle;\n",
       "    }\n",
       "\n",
       "    .dataframe tbody tr th {\n",
       "        vertical-align: top;\n",
       "    }\n",
       "\n",
       "    .dataframe thead th {\n",
       "        text-align: right;\n",
       "    }\n",
       "</style>\n",
       "<table border=\"1\" class=\"dataframe\">\n",
       "  <thead>\n",
       "    <tr style=\"text-align: right;\">\n",
       "      <th></th>\n",
       "      <th>playtime_forever</th>\n",
       "    </tr>\n",
       "  </thead>\n",
       "  <tbody>\n",
       "    <tr>\n",
       "      <th>count</th>\n",
       "      <td>2823404</td>\n",
       "    </tr>\n",
       "    <tr>\n",
       "      <th>unique</th>\n",
       "      <td>48860</td>\n",
       "    </tr>\n",
       "    <tr>\n",
       "      <th>top</th>\n",
       "      <td>1</td>\n",
       "    </tr>\n",
       "    <tr>\n",
       "      <th>freq</th>\n",
       "      <td>35796</td>\n",
       "    </tr>\n",
       "  </tbody>\n",
       "</table>\n",
       "</div>"
      ],
      "text/plain": [
       "        playtime_forever\n",
       "count            2823404\n",
       "unique             48860\n",
       "top                    1\n",
       "freq               35796"
      ]
     },
     "execution_count": 31,
     "metadata": {},
     "output_type": "execute_result"
    }
   ],
   "source": [
    "time_count_user.describe()"
   ]
  },
  {
   "cell_type": "markdown",
   "metadata": {},
   "source": [
    "Conclusión\n",
    "\n",
    "La cantidad total de tiempo jugado o consumido es de 2,823,404 minutos, lo que equivale a aproximadamente 47 horas y 56 minutos. El valor que más se repite (48,860 veces) es 1, lo que sugiere que la mayoría de los usuarios llega a jugar una hora.\n",
    "\n",
    "El usuario con el user_id \"wolop\" ha registrado el mayor tiempo de juego en Steam, con un total de 642,773 minutos, seguido de \"Evilutional\" con 635,295 minutos y \"76561198019826668\" muy cerca, con 632,452 minutos."
   ]
  },
  {
   "cell_type": "markdown",
   "metadata": {},
   "source": [
    "\n",
    "Preparación de dataset para el modelo de recomendación"
   ]
  },
  {
   "cell_type": "code",
   "execution_count": 32,
   "metadata": {},
   "outputs": [
    {
     "data": {
      "text/html": [
       "<div>\n",
       "<style scoped>\n",
       "    .dataframe tbody tr th:only-of-type {\n",
       "        vertical-align: middle;\n",
       "    }\n",
       "\n",
       "    .dataframe tbody tr th {\n",
       "        vertical-align: top;\n",
       "    }\n",
       "\n",
       "    .dataframe thead th {\n",
       "        text-align: right;\n",
       "    }\n",
       "</style>\n",
       "<table border=\"1\" class=\"dataframe\">\n",
       "  <thead>\n",
       "    <tr style=\"text-align: right;\">\n",
       "      <th></th>\n",
       "      <th>item_id</th>\n",
       "      <th>app_name</th>\n",
       "      <th>genres</th>\n",
       "      <th>developer</th>\n",
       "      <th>price</th>\n",
       "      <th>release_year</th>\n",
       "    </tr>\n",
       "  </thead>\n",
       "  <tbody>\n",
       "    <tr>\n",
       "      <th>0</th>\n",
       "      <td>761140</td>\n",
       "      <td>Lost Summoner Kitty</td>\n",
       "      <td>Action</td>\n",
       "      <td>Kotoshiro</td>\n",
       "      <td>4.99</td>\n",
       "      <td>2018</td>\n",
       "    </tr>\n",
       "    <tr>\n",
       "      <th>1</th>\n",
       "      <td>761140</td>\n",
       "      <td>Lost Summoner Kitty</td>\n",
       "      <td>Casual</td>\n",
       "      <td>Kotoshiro</td>\n",
       "      <td>4.99</td>\n",
       "      <td>2018</td>\n",
       "    </tr>\n",
       "    <tr>\n",
       "      <th>2</th>\n",
       "      <td>761140</td>\n",
       "      <td>Lost Summoner Kitty</td>\n",
       "      <td>Indie</td>\n",
       "      <td>Kotoshiro</td>\n",
       "      <td>4.99</td>\n",
       "      <td>2018</td>\n",
       "    </tr>\n",
       "    <tr>\n",
       "      <th>3</th>\n",
       "      <td>761140</td>\n",
       "      <td>Lost Summoner Kitty</td>\n",
       "      <td>Simulation</td>\n",
       "      <td>Kotoshiro</td>\n",
       "      <td>4.99</td>\n",
       "      <td>2018</td>\n",
       "    </tr>\n",
       "    <tr>\n",
       "      <th>4</th>\n",
       "      <td>761140</td>\n",
       "      <td>Lost Summoner Kitty</td>\n",
       "      <td>Strategy</td>\n",
       "      <td>Kotoshiro</td>\n",
       "      <td>4.99</td>\n",
       "      <td>2018</td>\n",
       "    </tr>\n",
       "    <tr>\n",
       "      <th>...</th>\n",
       "      <td>...</td>\n",
       "      <td>...</td>\n",
       "      <td>...</td>\n",
       "      <td>...</td>\n",
       "      <td>...</td>\n",
       "      <td>...</td>\n",
       "    </tr>\n",
       "    <tr>\n",
       "      <th>68011</th>\n",
       "      <td>610660</td>\n",
       "      <td>Russian Roads</td>\n",
       "      <td>Indie</td>\n",
       "      <td>Laush Dmitriy Sergeevich</td>\n",
       "      <td>1.99</td>\n",
       "      <td>2018</td>\n",
       "    </tr>\n",
       "    <tr>\n",
       "      <th>68012</th>\n",
       "      <td>610660</td>\n",
       "      <td>Russian Roads</td>\n",
       "      <td>Racing</td>\n",
       "      <td>Laush Dmitriy Sergeevich</td>\n",
       "      <td>1.99</td>\n",
       "      <td>2018</td>\n",
       "    </tr>\n",
       "    <tr>\n",
       "      <th>68013</th>\n",
       "      <td>610660</td>\n",
       "      <td>Russian Roads</td>\n",
       "      <td>Simulation</td>\n",
       "      <td>Laush Dmitriy Sergeevich</td>\n",
       "      <td>1.99</td>\n",
       "      <td>2018</td>\n",
       "    </tr>\n",
       "    <tr>\n",
       "      <th>68014</th>\n",
       "      <td>658870</td>\n",
       "      <td>Exit Directions</td>\n",
       "      <td>Casual</td>\n",
       "      <td>xropi,stev3ns</td>\n",
       "      <td>4.99</td>\n",
       "      <td>2017</td>\n",
       "    </tr>\n",
       "    <tr>\n",
       "      <th>68015</th>\n",
       "      <td>658870</td>\n",
       "      <td>Exit Directions</td>\n",
       "      <td>Indie</td>\n",
       "      <td>xropi,stev3ns</td>\n",
       "      <td>4.99</td>\n",
       "      <td>2017</td>\n",
       "    </tr>\n",
       "  </tbody>\n",
       "</table>\n",
       "<p>68016 rows × 6 columns</p>\n",
       "</div>"
      ],
      "text/plain": [
       "       item_id             app_name      genres                 developer  \\\n",
       "0       761140  Lost Summoner Kitty      Action                 Kotoshiro   \n",
       "1       761140  Lost Summoner Kitty      Casual                 Kotoshiro   \n",
       "2       761140  Lost Summoner Kitty       Indie                 Kotoshiro   \n",
       "3       761140  Lost Summoner Kitty  Simulation                 Kotoshiro   \n",
       "4       761140  Lost Summoner Kitty    Strategy                 Kotoshiro   \n",
       "...        ...                  ...         ...                       ...   \n",
       "68011   610660        Russian Roads       Indie  Laush Dmitriy Sergeevich   \n",
       "68012   610660        Russian Roads      Racing  Laush Dmitriy Sergeevich   \n",
       "68013   610660        Russian Roads  Simulation  Laush Dmitriy Sergeevich   \n",
       "68014   658870      Exit Directions      Casual             xropi,stev3ns   \n",
       "68015   658870      Exit Directions       Indie             xropi,stev3ns   \n",
       "\n",
       "       price  release_year  \n",
       "0       4.99          2018  \n",
       "1       4.99          2018  \n",
       "2       4.99          2018  \n",
       "3       4.99          2018  \n",
       "4       4.99          2018  \n",
       "...      ...           ...  \n",
       "68011   1.99          2018  \n",
       "68012   1.99          2018  \n",
       "68013   1.99          2018  \n",
       "68014   4.99          2017  \n",
       "68015   4.99          2017  \n",
       "\n",
       "[68016 rows x 6 columns]"
      ]
     },
     "execution_count": 32,
     "metadata": {},
     "output_type": "execute_result"
    }
   ],
   "source": [
    "modelo_item= pd.read_parquet(\"data/steam_games.parquet\")\n",
    "modelo_item"
   ]
  },
  {
   "cell_type": "code",
   "execution_count": 33,
   "metadata": {},
   "outputs": [
    {
     "data": {
      "text/html": [
       "<div>\n",
       "<style scoped>\n",
       "    .dataframe tbody tr th:only-of-type {\n",
       "        vertical-align: middle;\n",
       "    }\n",
       "\n",
       "    .dataframe tbody tr th {\n",
       "        vertical-align: top;\n",
       "    }\n",
       "\n",
       "    .dataframe thead th {\n",
       "        text-align: right;\n",
       "    }\n",
       "</style>\n",
       "<table border=\"1\" class=\"dataframe\">\n",
       "  <thead>\n",
       "    <tr style=\"text-align: right;\">\n",
       "      <th></th>\n",
       "      <th>item_id</th>\n",
       "      <th>app_name</th>\n",
       "      <th>genres</th>\n",
       "    </tr>\n",
       "  </thead>\n",
       "  <tbody>\n",
       "    <tr>\n",
       "      <th>0</th>\n",
       "      <td>761140</td>\n",
       "      <td>Lost Summoner Kitty</td>\n",
       "      <td>Action</td>\n",
       "    </tr>\n",
       "    <tr>\n",
       "      <th>1</th>\n",
       "      <td>761140</td>\n",
       "      <td>Lost Summoner Kitty</td>\n",
       "      <td>Casual</td>\n",
       "    </tr>\n",
       "    <tr>\n",
       "      <th>2</th>\n",
       "      <td>761140</td>\n",
       "      <td>Lost Summoner Kitty</td>\n",
       "      <td>Indie</td>\n",
       "    </tr>\n",
       "    <tr>\n",
       "      <th>3</th>\n",
       "      <td>761140</td>\n",
       "      <td>Lost Summoner Kitty</td>\n",
       "      <td>Simulation</td>\n",
       "    </tr>\n",
       "    <tr>\n",
       "      <th>4</th>\n",
       "      <td>761140</td>\n",
       "      <td>Lost Summoner Kitty</td>\n",
       "      <td>Strategy</td>\n",
       "    </tr>\n",
       "    <tr>\n",
       "      <th>...</th>\n",
       "      <td>...</td>\n",
       "      <td>...</td>\n",
       "      <td>...</td>\n",
       "    </tr>\n",
       "    <tr>\n",
       "      <th>68011</th>\n",
       "      <td>610660</td>\n",
       "      <td>Russian Roads</td>\n",
       "      <td>Indie</td>\n",
       "    </tr>\n",
       "    <tr>\n",
       "      <th>68012</th>\n",
       "      <td>610660</td>\n",
       "      <td>Russian Roads</td>\n",
       "      <td>Racing</td>\n",
       "    </tr>\n",
       "    <tr>\n",
       "      <th>68013</th>\n",
       "      <td>610660</td>\n",
       "      <td>Russian Roads</td>\n",
       "      <td>Simulation</td>\n",
       "    </tr>\n",
       "    <tr>\n",
       "      <th>68014</th>\n",
       "      <td>658870</td>\n",
       "      <td>Exit Directions</td>\n",
       "      <td>Casual</td>\n",
       "    </tr>\n",
       "    <tr>\n",
       "      <th>68015</th>\n",
       "      <td>658870</td>\n",
       "      <td>Exit Directions</td>\n",
       "      <td>Indie</td>\n",
       "    </tr>\n",
       "  </tbody>\n",
       "</table>\n",
       "<p>68016 rows × 3 columns</p>\n",
       "</div>"
      ],
      "text/plain": [
       "       item_id             app_name      genres\n",
       "0       761140  Lost Summoner Kitty      Action\n",
       "1       761140  Lost Summoner Kitty      Casual\n",
       "2       761140  Lost Summoner Kitty       Indie\n",
       "3       761140  Lost Summoner Kitty  Simulation\n",
       "4       761140  Lost Summoner Kitty    Strategy\n",
       "...        ...                  ...         ...\n",
       "68011   610660        Russian Roads       Indie\n",
       "68012   610660        Russian Roads      Racing\n",
       "68013   610660        Russian Roads  Simulation\n",
       "68014   658870      Exit Directions      Casual\n",
       "68015   658870      Exit Directions       Indie\n",
       "\n",
       "[68016 rows x 3 columns]"
      ]
     },
     "execution_count": 33,
     "metadata": {},
     "output_type": "execute_result"
    }
   ],
   "source": [
    "# Creo un dataframe con las columnas que voy a utilizar item_id,app_name y genres\n",
    "modelo_item= modelo_item[[\"item_id\", \"app_name\", \"genres\"]]\n",
    "modelo_item"
   ]
  },
  {
   "cell_type": "code",
   "execution_count": 34,
   "metadata": {},
   "outputs": [
    {
     "name": "stdout",
     "output_type": "stream",
     "text": [
      "<class 'pandas.core.frame.DataFrame'>\n",
      "RangeIndex: 68016 entries, 0 to 68015\n",
      "Data columns (total 3 columns):\n",
      " #   Column    Non-Null Count  Dtype \n",
      "---  ------    --------------  ----- \n",
      " 0   item_id   68016 non-null  int64 \n",
      " 1   app_name  67917 non-null  object\n",
      " 2   genres    68016 non-null  object\n",
      "dtypes: int64(1), object(2)\n",
      "memory usage: 1.6+ MB\n"
     ]
    }
   ],
   "source": [
    "#Se procede a buscar nulos\n",
    "modelo_item.info()"
   ]
  },
  {
   "cell_type": "markdown",
   "metadata": {},
   "source": [
    "Generando el archivo necesario para el proceso de modelado."
   ]
  },
  {
   "cell_type": "code",
   "execution_count": 35,
   "metadata": {},
   "outputs": [],
   "source": [
    "modelo_item.to_parquet(\"data/modelo_item.parquet\")"
   ]
  }
 ],
 "metadata": {
  "kernelspec": {
   "display_name": "venv",
   "language": "python",
   "name": "python3"
  },
  "language_info": {
   "codemirror_mode": {
    "name": "ipython",
    "version": 3
   },
   "file_extension": ".py",
   "mimetype": "text/x-python",
   "name": "python",
   "nbconvert_exporter": "python",
   "pygments_lexer": "ipython3",
   "version": "3.11.1"
  }
 },
 "nbformat": 4,
 "nbformat_minor": 2
}

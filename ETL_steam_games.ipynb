{
 "cells": [
  {
   "cell_type": "markdown",
   "metadata": {},
   "source": [
    "### **ETL - steam_games**\n",
    "**En este notebook realizaremos la extracción, transformación y carga (ETL) de `steam_games`**"
   ]
  },
  {
   "cell_type": "code",
   "execution_count": 34,
   "metadata": {},
   "outputs": [],
   "source": [
    "# Importando librerías\n",
    "import json                     # Módulo de codificador y decodificador JSON\n",
    "import pandas as pd             # Librería para manipular datasets\n",
    "import pyarrow as pa            # Útil para realizar operaciones de lectura y escritura de datos\n",
    "import pyarrow.parquet as pq    # Útil para leer y escribir datos en formato Parquet de manera eficiente \n",
    "import os                       # creación de directorios y comprobación de existencia\n",
    "import re                       # "
   ]
  },
  {
   "cell_type": "markdown",
   "metadata": {},
   "source": [
    "#### **Extracción y exploración**"
   ]
  },
  {
   "cell_type": "code",
   "execution_count": 35,
   "metadata": {},
   "outputs": [
    {
     "data": {
      "text/html": [
       "<div>\n",
       "<style scoped>\n",
       "    .dataframe tbody tr th:only-of-type {\n",
       "        vertical-align: middle;\n",
       "    }\n",
       "\n",
       "    .dataframe tbody tr th {\n",
       "        vertical-align: top;\n",
       "    }\n",
       "\n",
       "    .dataframe thead th {\n",
       "        text-align: right;\n",
       "    }\n",
       "</style>\n",
       "<table border=\"1\" class=\"dataframe\">\n",
       "  <thead>\n",
       "    <tr style=\"text-align: right;\">\n",
       "      <th></th>\n",
       "      <th>publisher</th>\n",
       "      <th>genres</th>\n",
       "      <th>app_name</th>\n",
       "      <th>title</th>\n",
       "      <th>url</th>\n",
       "      <th>release_date</th>\n",
       "      <th>tags</th>\n",
       "      <th>reviews_url</th>\n",
       "      <th>specs</th>\n",
       "      <th>price</th>\n",
       "      <th>early_access</th>\n",
       "      <th>id</th>\n",
       "      <th>developer</th>\n",
       "    </tr>\n",
       "  </thead>\n",
       "  <tbody>\n",
       "    <tr>\n",
       "      <th>0</th>\n",
       "      <td>NaN</td>\n",
       "      <td>NaN</td>\n",
       "      <td>NaN</td>\n",
       "      <td>NaN</td>\n",
       "      <td>NaN</td>\n",
       "      <td>NaN</td>\n",
       "      <td>NaN</td>\n",
       "      <td>NaN</td>\n",
       "      <td>NaN</td>\n",
       "      <td>NaN</td>\n",
       "      <td>NaN</td>\n",
       "      <td>NaN</td>\n",
       "      <td>NaN</td>\n",
       "    </tr>\n",
       "    <tr>\n",
       "      <th>1</th>\n",
       "      <td>NaN</td>\n",
       "      <td>NaN</td>\n",
       "      <td>NaN</td>\n",
       "      <td>NaN</td>\n",
       "      <td>NaN</td>\n",
       "      <td>NaN</td>\n",
       "      <td>NaN</td>\n",
       "      <td>NaN</td>\n",
       "      <td>NaN</td>\n",
       "      <td>NaN</td>\n",
       "      <td>NaN</td>\n",
       "      <td>NaN</td>\n",
       "      <td>NaN</td>\n",
       "    </tr>\n",
       "    <tr>\n",
       "      <th>2</th>\n",
       "      <td>NaN</td>\n",
       "      <td>NaN</td>\n",
       "      <td>NaN</td>\n",
       "      <td>NaN</td>\n",
       "      <td>NaN</td>\n",
       "      <td>NaN</td>\n",
       "      <td>NaN</td>\n",
       "      <td>NaN</td>\n",
       "      <td>NaN</td>\n",
       "      <td>NaN</td>\n",
       "      <td>NaN</td>\n",
       "      <td>NaN</td>\n",
       "      <td>NaN</td>\n",
       "    </tr>\n",
       "    <tr>\n",
       "      <th>3</th>\n",
       "      <td>NaN</td>\n",
       "      <td>NaN</td>\n",
       "      <td>NaN</td>\n",
       "      <td>NaN</td>\n",
       "      <td>NaN</td>\n",
       "      <td>NaN</td>\n",
       "      <td>NaN</td>\n",
       "      <td>NaN</td>\n",
       "      <td>NaN</td>\n",
       "      <td>NaN</td>\n",
       "      <td>NaN</td>\n",
       "      <td>NaN</td>\n",
       "      <td>NaN</td>\n",
       "    </tr>\n",
       "    <tr>\n",
       "      <th>4</th>\n",
       "      <td>NaN</td>\n",
       "      <td>NaN</td>\n",
       "      <td>NaN</td>\n",
       "      <td>NaN</td>\n",
       "      <td>NaN</td>\n",
       "      <td>NaN</td>\n",
       "      <td>NaN</td>\n",
       "      <td>NaN</td>\n",
       "      <td>NaN</td>\n",
       "      <td>NaN</td>\n",
       "      <td>NaN</td>\n",
       "      <td>NaN</td>\n",
       "      <td>NaN</td>\n",
       "    </tr>\n",
       "    <tr>\n",
       "      <th>...</th>\n",
       "      <td>...</td>\n",
       "      <td>...</td>\n",
       "      <td>...</td>\n",
       "      <td>...</td>\n",
       "      <td>...</td>\n",
       "      <td>...</td>\n",
       "      <td>...</td>\n",
       "      <td>...</td>\n",
       "      <td>...</td>\n",
       "      <td>...</td>\n",
       "      <td>...</td>\n",
       "      <td>...</td>\n",
       "      <td>...</td>\n",
       "    </tr>\n",
       "    <tr>\n",
       "      <th>120440</th>\n",
       "      <td>Ghost_RUS Games</td>\n",
       "      <td>[Casual, Indie, Simulation, Strategy]</td>\n",
       "      <td>Colony On Mars</td>\n",
       "      <td>Colony On Mars</td>\n",
       "      <td>http://store.steampowered.com/app/773640/Colon...</td>\n",
       "      <td>2018-01-04</td>\n",
       "      <td>[Strategy, Indie, Casual, Simulation]</td>\n",
       "      <td>http://steamcommunity.com/app/773640/reviews/?...</td>\n",
       "      <td>[Single-player, Steam Achievements]</td>\n",
       "      <td>1.99</td>\n",
       "      <td>False</td>\n",
       "      <td>773640</td>\n",
       "      <td>Nikita \"Ghost_RUS\"</td>\n",
       "    </tr>\n",
       "    <tr>\n",
       "      <th>120441</th>\n",
       "      <td>Sacada</td>\n",
       "      <td>[Casual, Indie, Strategy]</td>\n",
       "      <td>LOGistICAL: South Africa</td>\n",
       "      <td>LOGistICAL: South Africa</td>\n",
       "      <td>http://store.steampowered.com/app/733530/LOGis...</td>\n",
       "      <td>2018-01-04</td>\n",
       "      <td>[Strategy, Indie, Casual]</td>\n",
       "      <td>http://steamcommunity.com/app/733530/reviews/?...</td>\n",
       "      <td>[Single-player, Steam Achievements, Steam Clou...</td>\n",
       "      <td>4.99</td>\n",
       "      <td>False</td>\n",
       "      <td>733530</td>\n",
       "      <td>Sacada</td>\n",
       "    </tr>\n",
       "    <tr>\n",
       "      <th>120442</th>\n",
       "      <td>Laush Studio</td>\n",
       "      <td>[Indie, Racing, Simulation]</td>\n",
       "      <td>Russian Roads</td>\n",
       "      <td>Russian Roads</td>\n",
       "      <td>http://store.steampowered.com/app/610660/Russi...</td>\n",
       "      <td>2018-01-04</td>\n",
       "      <td>[Indie, Simulation, Racing]</td>\n",
       "      <td>http://steamcommunity.com/app/610660/reviews/?...</td>\n",
       "      <td>[Single-player, Steam Achievements, Steam Trad...</td>\n",
       "      <td>1.99</td>\n",
       "      <td>False</td>\n",
       "      <td>610660</td>\n",
       "      <td>Laush Dmitriy Sergeevich</td>\n",
       "    </tr>\n",
       "    <tr>\n",
       "      <th>120443</th>\n",
       "      <td>SIXNAILS</td>\n",
       "      <td>[Casual, Indie]</td>\n",
       "      <td>EXIT 2 - Directions</td>\n",
       "      <td>EXIT 2 - Directions</td>\n",
       "      <td>http://store.steampowered.com/app/658870/EXIT_...</td>\n",
       "      <td>2017-09-02</td>\n",
       "      <td>[Indie, Casual, Puzzle, Singleplayer, Atmosphe...</td>\n",
       "      <td>http://steamcommunity.com/app/658870/reviews/?...</td>\n",
       "      <td>[Single-player, Steam Achievements, Steam Cloud]</td>\n",
       "      <td>4.99</td>\n",
       "      <td>False</td>\n",
       "      <td>658870</td>\n",
       "      <td>xropi,stev3ns</td>\n",
       "    </tr>\n",
       "    <tr>\n",
       "      <th>120444</th>\n",
       "      <td>NaN</td>\n",
       "      <td>NaN</td>\n",
       "      <td>Maze Run VR</td>\n",
       "      <td>NaN</td>\n",
       "      <td>http://store.steampowered.com/app/681550/Maze_...</td>\n",
       "      <td>NaN</td>\n",
       "      <td>[Early Access, Adventure, Indie, Action, Simul...</td>\n",
       "      <td>http://steamcommunity.com/app/681550/reviews/?...</td>\n",
       "      <td>[Single-player, Stats, Steam Leaderboards, HTC...</td>\n",
       "      <td>4.99</td>\n",
       "      <td>True</td>\n",
       "      <td>681550</td>\n",
       "      <td>NaN</td>\n",
       "    </tr>\n",
       "  </tbody>\n",
       "</table>\n",
       "<p>120445 rows × 13 columns</p>\n",
       "</div>"
      ],
      "text/plain": [
       "              publisher                                 genres  \\\n",
       "0                   NaN                                    NaN   \n",
       "1                   NaN                                    NaN   \n",
       "2                   NaN                                    NaN   \n",
       "3                   NaN                                    NaN   \n",
       "4                   NaN                                    NaN   \n",
       "...                 ...                                    ...   \n",
       "120440  Ghost_RUS Games  [Casual, Indie, Simulation, Strategy]   \n",
       "120441           Sacada              [Casual, Indie, Strategy]   \n",
       "120442     Laush Studio            [Indie, Racing, Simulation]   \n",
       "120443         SIXNAILS                        [Casual, Indie]   \n",
       "120444              NaN                                    NaN   \n",
       "\n",
       "                        app_name                     title  \\\n",
       "0                            NaN                       NaN   \n",
       "1                            NaN                       NaN   \n",
       "2                            NaN                       NaN   \n",
       "3                            NaN                       NaN   \n",
       "4                            NaN                       NaN   \n",
       "...                          ...                       ...   \n",
       "120440            Colony On Mars            Colony On Mars   \n",
       "120441  LOGistICAL: South Africa  LOGistICAL: South Africa   \n",
       "120442             Russian Roads             Russian Roads   \n",
       "120443       EXIT 2 - Directions       EXIT 2 - Directions   \n",
       "120444               Maze Run VR                       NaN   \n",
       "\n",
       "                                                      url release_date  \\\n",
       "0                                                     NaN          NaN   \n",
       "1                                                     NaN          NaN   \n",
       "2                                                     NaN          NaN   \n",
       "3                                                     NaN          NaN   \n",
       "4                                                     NaN          NaN   \n",
       "...                                                   ...          ...   \n",
       "120440  http://store.steampowered.com/app/773640/Colon...   2018-01-04   \n",
       "120441  http://store.steampowered.com/app/733530/LOGis...   2018-01-04   \n",
       "120442  http://store.steampowered.com/app/610660/Russi...   2018-01-04   \n",
       "120443  http://store.steampowered.com/app/658870/EXIT_...   2017-09-02   \n",
       "120444  http://store.steampowered.com/app/681550/Maze_...          NaN   \n",
       "\n",
       "                                                     tags  \\\n",
       "0                                                     NaN   \n",
       "1                                                     NaN   \n",
       "2                                                     NaN   \n",
       "3                                                     NaN   \n",
       "4                                                     NaN   \n",
       "...                                                   ...   \n",
       "120440              [Strategy, Indie, Casual, Simulation]   \n",
       "120441                          [Strategy, Indie, Casual]   \n",
       "120442                        [Indie, Simulation, Racing]   \n",
       "120443  [Indie, Casual, Puzzle, Singleplayer, Atmosphe...   \n",
       "120444  [Early Access, Adventure, Indie, Action, Simul...   \n",
       "\n",
       "                                              reviews_url  \\\n",
       "0                                                     NaN   \n",
       "1                                                     NaN   \n",
       "2                                                     NaN   \n",
       "3                                                     NaN   \n",
       "4                                                     NaN   \n",
       "...                                                   ...   \n",
       "120440  http://steamcommunity.com/app/773640/reviews/?...   \n",
       "120441  http://steamcommunity.com/app/733530/reviews/?...   \n",
       "120442  http://steamcommunity.com/app/610660/reviews/?...   \n",
       "120443  http://steamcommunity.com/app/658870/reviews/?...   \n",
       "120444  http://steamcommunity.com/app/681550/reviews/?...   \n",
       "\n",
       "                                                    specs price early_access  \\\n",
       "0                                                     NaN   NaN          NaN   \n",
       "1                                                     NaN   NaN          NaN   \n",
       "2                                                     NaN   NaN          NaN   \n",
       "3                                                     NaN   NaN          NaN   \n",
       "4                                                     NaN   NaN          NaN   \n",
       "...                                                   ...   ...          ...   \n",
       "120440                [Single-player, Steam Achievements]  1.99        False   \n",
       "120441  [Single-player, Steam Achievements, Steam Clou...  4.99        False   \n",
       "120442  [Single-player, Steam Achievements, Steam Trad...  1.99        False   \n",
       "120443   [Single-player, Steam Achievements, Steam Cloud]  4.99        False   \n",
       "120444  [Single-player, Stats, Steam Leaderboards, HTC...  4.99         True   \n",
       "\n",
       "            id                 developer  \n",
       "0          NaN                       NaN  \n",
       "1          NaN                       NaN  \n",
       "2          NaN                       NaN  \n",
       "3          NaN                       NaN  \n",
       "4          NaN                       NaN  \n",
       "...        ...                       ...  \n",
       "120440  773640        Nikita \"Ghost_RUS\"  \n",
       "120441  733530                    Sacada  \n",
       "120442  610660  Laush Dmitriy Sergeevich  \n",
       "120443  658870             xropi,stev3ns  \n",
       "120444  681550                       NaN  \n",
       "\n",
       "[120445 rows x 13 columns]"
      ]
     },
     "execution_count": 35,
     "metadata": {},
     "output_type": "execute_result"
    }
   ],
   "source": [
    "#Se crea una lista sin elementos con el propósito de almacenar el registro de iteraciones que ocurrirán en el bucle for.\n",
    "contenido = []\n",
    "\n",
    "#Creamos bucle que va a recorrer el dataset.\n",
    "with open (\"dataset/output_steam_games.json\") as file:\n",
    "    for line in file.readlines():\n",
    "        fila = json.loads(line)\n",
    "        contenido.append(fila)\n",
    "\n",
    "#Se crea el dataframe en base a la lista\n",
    "steam = pd.DataFrame(contenido)\n",
    "steam"
   ]
  },
  {
   "cell_type": "code",
   "execution_count": 36,
   "metadata": {},
   "outputs": [
    {
     "data": {
      "text/plain": [
       "(120445, 13)"
      ]
     },
     "execution_count": 36,
     "metadata": {},
     "output_type": "execute_result"
    }
   ],
   "source": [
    "# Obtenemos la forma de la matriz\n",
    "steam.shape"
   ]
  },
  {
   "cell_type": "code",
   "execution_count": 37,
   "metadata": {},
   "outputs": [
    {
     "data": {
      "text/html": [
       "<div>\n",
       "<style scoped>\n",
       "    .dataframe tbody tr th:only-of-type {\n",
       "        vertical-align: middle;\n",
       "    }\n",
       "\n",
       "    .dataframe tbody tr th {\n",
       "        vertical-align: top;\n",
       "    }\n",
       "\n",
       "    .dataframe thead th {\n",
       "        text-align: right;\n",
       "    }\n",
       "</style>\n",
       "<table border=\"1\" class=\"dataframe\">\n",
       "  <thead>\n",
       "    <tr style=\"text-align: right;\">\n",
       "      <th></th>\n",
       "      <th>publisher</th>\n",
       "      <th>genres</th>\n",
       "      <th>app_name</th>\n",
       "      <th>title</th>\n",
       "      <th>url</th>\n",
       "      <th>release_date</th>\n",
       "      <th>tags</th>\n",
       "      <th>reviews_url</th>\n",
       "      <th>specs</th>\n",
       "      <th>price</th>\n",
       "      <th>early_access</th>\n",
       "      <th>id</th>\n",
       "      <th>developer</th>\n",
       "    </tr>\n",
       "  </thead>\n",
       "  <tbody>\n",
       "    <tr>\n",
       "      <th>count</th>\n",
       "      <td>24083</td>\n",
       "      <td>28852</td>\n",
       "      <td>32133</td>\n",
       "      <td>30085</td>\n",
       "      <td>32135</td>\n",
       "      <td>30068</td>\n",
       "      <td>31972</td>\n",
       "      <td>32133</td>\n",
       "      <td>31465</td>\n",
       "      <td>30758.00</td>\n",
       "      <td>32135</td>\n",
       "      <td>32133</td>\n",
       "      <td>28836</td>\n",
       "    </tr>\n",
       "    <tr>\n",
       "      <th>unique</th>\n",
       "      <td>8239</td>\n",
       "      <td>883</td>\n",
       "      <td>32094</td>\n",
       "      <td>30054</td>\n",
       "      <td>32135</td>\n",
       "      <td>3582</td>\n",
       "      <td>15395</td>\n",
       "      <td>32132</td>\n",
       "      <td>4649</td>\n",
       "      <td>162.00</td>\n",
       "      <td>2</td>\n",
       "      <td>32132</td>\n",
       "      <td>10992</td>\n",
       "    </tr>\n",
       "    <tr>\n",
       "      <th>top</th>\n",
       "      <td>Ubisoft</td>\n",
       "      <td>[Action]</td>\n",
       "      <td>Soundtrack</td>\n",
       "      <td>Soundtrack</td>\n",
       "      <td>http://store.steampowered.com/app/761140/Lost_...</td>\n",
       "      <td>2012-10-16</td>\n",
       "      <td>[Casual, Simulation]</td>\n",
       "      <td>http://steamcommunity.com/app/612880/reviews/?...</td>\n",
       "      <td>[Single-player]</td>\n",
       "      <td>4.99</td>\n",
       "      <td>False</td>\n",
       "      <td>612880</td>\n",
       "      <td>Ubisoft - San Francisco</td>\n",
       "    </tr>\n",
       "    <tr>\n",
       "      <th>freq</th>\n",
       "      <td>385</td>\n",
       "      <td>1880</td>\n",
       "      <td>3</td>\n",
       "      <td>3</td>\n",
       "      <td>1</td>\n",
       "      <td>100</td>\n",
       "      <td>1292</td>\n",
       "      <td>2</td>\n",
       "      <td>2794</td>\n",
       "      <td>4278.00</td>\n",
       "      <td>30188</td>\n",
       "      <td>2</td>\n",
       "      <td>1259</td>\n",
       "    </tr>\n",
       "  </tbody>\n",
       "</table>\n",
       "</div>"
      ],
      "text/plain": [
       "       publisher    genres    app_name       title  \\\n",
       "count      24083     28852       32133       30085   \n",
       "unique      8239       883       32094       30054   \n",
       "top      Ubisoft  [Action]  Soundtrack  Soundtrack   \n",
       "freq         385      1880           3           3   \n",
       "\n",
       "                                                      url release_date  \\\n",
       "count                                               32135        30068   \n",
       "unique                                              32135         3582   \n",
       "top     http://store.steampowered.com/app/761140/Lost_...   2012-10-16   \n",
       "freq                                                    1          100   \n",
       "\n",
       "                        tags  \\\n",
       "count                  31972   \n",
       "unique                 15395   \n",
       "top     [Casual, Simulation]   \n",
       "freq                    1292   \n",
       "\n",
       "                                              reviews_url            specs  \\\n",
       "count                                               32133            31465   \n",
       "unique                                              32132             4649   \n",
       "top     http://steamcommunity.com/app/612880/reviews/?...  [Single-player]   \n",
       "freq                                                    2             2794   \n",
       "\n",
       "           price early_access      id                developer  \n",
       "count   30758.00        32135   32133                    28836  \n",
       "unique    162.00            2   32132                    10992  \n",
       "top         4.99        False  612880  Ubisoft - San Francisco  \n",
       "freq     4278.00        30188       2                     1259  "
      ]
     },
     "execution_count": 37,
     "metadata": {},
     "output_type": "execute_result"
    }
   ],
   "source": [
    "steam.describe()"
   ]
  },
  {
   "cell_type": "code",
   "execution_count": 38,
   "metadata": {},
   "outputs": [
    {
     "name": "stdout",
     "output_type": "stream",
     "text": [
      "<class 'pandas.core.frame.DataFrame'>\n",
      "RangeIndex: 120445 entries, 0 to 120444\n",
      "Data columns (total 13 columns):\n",
      " #   Column        Non-Null Count  Dtype \n",
      "---  ------        --------------  ----- \n",
      " 0   publisher     24083 non-null  object\n",
      " 1   genres        28852 non-null  object\n",
      " 2   app_name      32133 non-null  object\n",
      " 3   title         30085 non-null  object\n",
      " 4   url           32135 non-null  object\n",
      " 5   release_date  30068 non-null  object\n",
      " 6   tags          31972 non-null  object\n",
      " 7   reviews_url   32133 non-null  object\n",
      " 8   specs         31465 non-null  object\n",
      " 9   price         30758 non-null  object\n",
      " 10  early_access  32135 non-null  object\n",
      " 11  id            32133 non-null  object\n",
      " 12  developer     28836 non-null  object\n",
      "dtypes: object(13)\n",
      "memory usage: 11.9+ MB\n"
     ]
    }
   ],
   "source": [
    "steam.info()"
   ]
  },
  {
   "cell_type": "markdown",
   "metadata": {},
   "source": [
    "Busqueda y tratamiento de nulos y duplicados"
   ]
  },
  {
   "cell_type": "code",
   "execution_count": 39,
   "metadata": {},
   "outputs": [
    {
     "data": {
      "text/plain": [
       "publisher       96362\n",
       "genres          91593\n",
       "app_name        88312\n",
       "title           90360\n",
       "url             88310\n",
       "release_date    90377\n",
       "tags            88473\n",
       "reviews_url     88312\n",
       "specs           88980\n",
       "price           89687\n",
       "early_access    88310\n",
       "id              88312\n",
       "developer       91609\n",
       "dtype: int64"
      ]
     },
     "execution_count": 39,
     "metadata": {},
     "output_type": "execute_result"
    }
   ],
   "source": [
    "# Busqueda de nulos\n",
    "Total_nulos= steam.isnull().sum()\n",
    "Total_nulos"
   ]
  },
  {
   "cell_type": "markdown",
   "metadata": {},
   "source": [
    "Existen columnas que no se utilizan por lo tanto se eliminan con el fin de optimizar el tratamiento de los datos"
   ]
  },
  {
   "cell_type": "code",
   "execution_count": 40,
   "metadata": {},
   "outputs": [
    {
     "data": {
      "text/html": [
       "<div>\n",
       "<style scoped>\n",
       "    .dataframe tbody tr th:only-of-type {\n",
       "        vertical-align: middle;\n",
       "    }\n",
       "\n",
       "    .dataframe tbody tr th {\n",
       "        vertical-align: top;\n",
       "    }\n",
       "\n",
       "    .dataframe thead th {\n",
       "        text-align: right;\n",
       "    }\n",
       "</style>\n",
       "<table border=\"1\" class=\"dataframe\">\n",
       "  <thead>\n",
       "    <tr style=\"text-align: right;\">\n",
       "      <th></th>\n",
       "      <th>genres</th>\n",
       "      <th>app_name</th>\n",
       "      <th>release_date</th>\n",
       "      <th>price</th>\n",
       "      <th>id</th>\n",
       "      <th>developer</th>\n",
       "    </tr>\n",
       "  </thead>\n",
       "  <tbody>\n",
       "    <tr>\n",
       "      <th>0</th>\n",
       "      <td>NaN</td>\n",
       "      <td>NaN</td>\n",
       "      <td>NaN</td>\n",
       "      <td>NaN</td>\n",
       "      <td>NaN</td>\n",
       "      <td>NaN</td>\n",
       "    </tr>\n",
       "    <tr>\n",
       "      <th>1</th>\n",
       "      <td>NaN</td>\n",
       "      <td>NaN</td>\n",
       "      <td>NaN</td>\n",
       "      <td>NaN</td>\n",
       "      <td>NaN</td>\n",
       "      <td>NaN</td>\n",
       "    </tr>\n",
       "    <tr>\n",
       "      <th>2</th>\n",
       "      <td>NaN</td>\n",
       "      <td>NaN</td>\n",
       "      <td>NaN</td>\n",
       "      <td>NaN</td>\n",
       "      <td>NaN</td>\n",
       "      <td>NaN</td>\n",
       "    </tr>\n",
       "    <tr>\n",
       "      <th>3</th>\n",
       "      <td>NaN</td>\n",
       "      <td>NaN</td>\n",
       "      <td>NaN</td>\n",
       "      <td>NaN</td>\n",
       "      <td>NaN</td>\n",
       "      <td>NaN</td>\n",
       "    </tr>\n",
       "    <tr>\n",
       "      <th>4</th>\n",
       "      <td>NaN</td>\n",
       "      <td>NaN</td>\n",
       "      <td>NaN</td>\n",
       "      <td>NaN</td>\n",
       "      <td>NaN</td>\n",
       "      <td>NaN</td>\n",
       "    </tr>\n",
       "    <tr>\n",
       "      <th>...</th>\n",
       "      <td>...</td>\n",
       "      <td>...</td>\n",
       "      <td>...</td>\n",
       "      <td>...</td>\n",
       "      <td>...</td>\n",
       "      <td>...</td>\n",
       "    </tr>\n",
       "    <tr>\n",
       "      <th>120440</th>\n",
       "      <td>[Casual, Indie, Simulation, Strategy]</td>\n",
       "      <td>Colony On Mars</td>\n",
       "      <td>2018-01-04</td>\n",
       "      <td>1.99</td>\n",
       "      <td>773640</td>\n",
       "      <td>Nikita \"Ghost_RUS\"</td>\n",
       "    </tr>\n",
       "    <tr>\n",
       "      <th>120441</th>\n",
       "      <td>[Casual, Indie, Strategy]</td>\n",
       "      <td>LOGistICAL: South Africa</td>\n",
       "      <td>2018-01-04</td>\n",
       "      <td>4.99</td>\n",
       "      <td>733530</td>\n",
       "      <td>Sacada</td>\n",
       "    </tr>\n",
       "    <tr>\n",
       "      <th>120442</th>\n",
       "      <td>[Indie, Racing, Simulation]</td>\n",
       "      <td>Russian Roads</td>\n",
       "      <td>2018-01-04</td>\n",
       "      <td>1.99</td>\n",
       "      <td>610660</td>\n",
       "      <td>Laush Dmitriy Sergeevich</td>\n",
       "    </tr>\n",
       "    <tr>\n",
       "      <th>120443</th>\n",
       "      <td>[Casual, Indie]</td>\n",
       "      <td>EXIT 2 - Directions</td>\n",
       "      <td>2017-09-02</td>\n",
       "      <td>4.99</td>\n",
       "      <td>658870</td>\n",
       "      <td>xropi,stev3ns</td>\n",
       "    </tr>\n",
       "    <tr>\n",
       "      <th>120444</th>\n",
       "      <td>NaN</td>\n",
       "      <td>Maze Run VR</td>\n",
       "      <td>NaN</td>\n",
       "      <td>4.99</td>\n",
       "      <td>681550</td>\n",
       "      <td>NaN</td>\n",
       "    </tr>\n",
       "  </tbody>\n",
       "</table>\n",
       "<p>120445 rows × 6 columns</p>\n",
       "</div>"
      ],
      "text/plain": [
       "                                       genres                  app_name  \\\n",
       "0                                         NaN                       NaN   \n",
       "1                                         NaN                       NaN   \n",
       "2                                         NaN                       NaN   \n",
       "3                                         NaN                       NaN   \n",
       "4                                         NaN                       NaN   \n",
       "...                                       ...                       ...   \n",
       "120440  [Casual, Indie, Simulation, Strategy]            Colony On Mars   \n",
       "120441              [Casual, Indie, Strategy]  LOGistICAL: South Africa   \n",
       "120442            [Indie, Racing, Simulation]             Russian Roads   \n",
       "120443                        [Casual, Indie]       EXIT 2 - Directions   \n",
       "120444                                    NaN               Maze Run VR   \n",
       "\n",
       "       release_date price      id                 developer  \n",
       "0               NaN   NaN     NaN                       NaN  \n",
       "1               NaN   NaN     NaN                       NaN  \n",
       "2               NaN   NaN     NaN                       NaN  \n",
       "3               NaN   NaN     NaN                       NaN  \n",
       "4               NaN   NaN     NaN                       NaN  \n",
       "...             ...   ...     ...                       ...  \n",
       "120440   2018-01-04  1.99  773640        Nikita \"Ghost_RUS\"  \n",
       "120441   2018-01-04  4.99  733530                    Sacada  \n",
       "120442   2018-01-04  1.99  610660  Laush Dmitriy Sergeevich  \n",
       "120443   2017-09-02  4.99  658870             xropi,stev3ns  \n",
       "120444          NaN  4.99  681550                       NaN  \n",
       "\n",
       "[120445 rows x 6 columns]"
      ]
     },
     "execution_count": 40,
     "metadata": {},
     "output_type": "execute_result"
    }
   ],
   "source": [
    "steam.drop(['title','early_access','url','reviews_url','tags','publisher','specs'], axis=1, inplace = True)\n",
    "steam.reindex()"
   ]
  },
  {
   "cell_type": "code",
   "execution_count": 41,
   "metadata": {},
   "outputs": [],
   "source": [
    "# Borrar nulos por cada columna\n",
    "steam = steam.dropna(subset=['genres'])\n",
    "steam = steam.dropna(subset=['app_name'])\n",
    "steam = steam.dropna(subset=['release_date'])\n",
    "steam = steam.dropna(subset=['price'])\n",
    "steam = steam.dropna(subset=['id'])\n",
    "steam = steam.dropna(subset=['developer'])"
   ]
  },
  {
   "cell_type": "code",
   "execution_count": 42,
   "metadata": {},
   "outputs": [],
   "source": [
    "# Reseteamos index\n",
    "steam= steam.reset_index(drop=True)"
   ]
  },
  {
   "cell_type": "code",
   "execution_count": 43,
   "metadata": {},
   "outputs": [
    {
     "data": {
      "text/html": [
       "<div>\n",
       "<style scoped>\n",
       "    .dataframe tbody tr th:only-of-type {\n",
       "        vertical-align: middle;\n",
       "    }\n",
       "\n",
       "    .dataframe tbody tr th {\n",
       "        vertical-align: top;\n",
       "    }\n",
       "\n",
       "    .dataframe thead th {\n",
       "        text-align: right;\n",
       "    }\n",
       "</style>\n",
       "<table border=\"1\" class=\"dataframe\">\n",
       "  <thead>\n",
       "    <tr style=\"text-align: right;\">\n",
       "      <th></th>\n",
       "      <th>genres</th>\n",
       "      <th>app_name</th>\n",
       "      <th>release_date</th>\n",
       "      <th>price</th>\n",
       "      <th>id</th>\n",
       "      <th>developer</th>\n",
       "    </tr>\n",
       "  </thead>\n",
       "  <tbody>\n",
       "    <tr>\n",
       "      <th>10497</th>\n",
       "      <td>[Action]</td>\n",
       "      <td>Wolfenstein II: The Freedom Chronicles - Seaso...</td>\n",
       "      <td>2017-11-07</td>\n",
       "      <td>24.99</td>\n",
       "      <td>650410</td>\n",
       "      <td>Machine Games</td>\n",
       "    </tr>\n",
       "    <tr>\n",
       "      <th>11359</th>\n",
       "      <td>[Action]</td>\n",
       "      <td>Wolfenstein II: The Freedom Chronicles - Episo...</td>\n",
       "      <td>2017-12-13</td>\n",
       "      <td>9.99</td>\n",
       "      <td>624620</td>\n",
       "      <td>Machine Games</td>\n",
       "    </tr>\n",
       "    <tr>\n",
       "      <th>11810</th>\n",
       "      <td>[Action]</td>\n",
       "      <td>Wolfenstein II: The New Colossus</td>\n",
       "      <td>2017-10-26</td>\n",
       "      <td>59.99</td>\n",
       "      <td>612880</td>\n",
       "      <td>Machine Games</td>\n",
       "    </tr>\n",
       "    <tr>\n",
       "      <th>12361</th>\n",
       "      <td>[Action]</td>\n",
       "      <td>Wolfenstein II: The New Colossus</td>\n",
       "      <td>2017-10-26</td>\n",
       "      <td>59.99</td>\n",
       "      <td>612880</td>\n",
       "      <td>Machine Games</td>\n",
       "    </tr>\n",
       "    <tr>\n",
       "      <th>24543</th>\n",
       "      <td>[Action]</td>\n",
       "      <td>Wolfenstein: The New Order</td>\n",
       "      <td>2014-05-19</td>\n",
       "      <td>19.99</td>\n",
       "      <td>201810</td>\n",
       "      <td>Machine Games</td>\n",
       "    </tr>\n",
       "  </tbody>\n",
       "</table>\n",
       "</div>"
      ],
      "text/plain": [
       "         genres                                           app_name  \\\n",
       "10497  [Action]  Wolfenstein II: The Freedom Chronicles - Seaso...   \n",
       "11359  [Action]  Wolfenstein II: The Freedom Chronicles - Episo...   \n",
       "11810  [Action]                   Wolfenstein II: The New Colossus   \n",
       "12361  [Action]                   Wolfenstein II: The New Colossus   \n",
       "24543  [Action]                         Wolfenstein: The New Order   \n",
       "\n",
       "      release_date  price      id      developer  \n",
       "10497   2017-11-07  24.99  650410  Machine Games  \n",
       "11359   2017-12-13   9.99  624620  Machine Games  \n",
       "11810   2017-10-26  59.99  612880  Machine Games  \n",
       "12361   2017-10-26  59.99  612880  Machine Games  \n",
       "24543   2014-05-19  19.99  201810  Machine Games  "
      ]
     },
     "execution_count": 43,
     "metadata": {},
     "output_type": "execute_result"
    }
   ],
   "source": [
    "# visualizamos duplicados de \"Machine Games\"\n",
    "steam[steam[\"developer\"]== \"Machine Games\"]"
   ]
  },
  {
   "cell_type": "markdown",
   "metadata": {},
   "source": [
    "La fila duplicada 12361 es idéntica a la 11810.. por lo que podemos eliminarla"
   ]
  },
  {
   "cell_type": "code",
   "execution_count": 44,
   "metadata": {},
   "outputs": [],
   "source": [
    "#elimino columnas con id duplicadas\n",
    "duplicados_col = [12361]\n",
    "steam= steam.drop(duplicados_col)"
   ]
  },
  {
   "cell_type": "code",
   "execution_count": 45,
   "metadata": {},
   "outputs": [
    {
     "data": {
      "text/plain": [
       "(27461, 6)"
      ]
     },
     "execution_count": 45,
     "metadata": {},
     "output_type": "execute_result"
    }
   ],
   "source": [
    "steam.shape"
   ]
  },
  {
   "cell_type": "markdown",
   "metadata": {},
   "source": [
    "#### **Tranformación de los Datos**"
   ]
  },
  {
   "cell_type": "markdown",
   "metadata": {},
   "source": [
    "Observamos que tipo de datos es cada una de las columnas"
   ]
  },
  {
   "cell_type": "code",
   "execution_count": 46,
   "metadata": {},
   "outputs": [
    {
     "data": {
      "text/html": [
       "<div>\n",
       "<style scoped>\n",
       "    .dataframe tbody tr th:only-of-type {\n",
       "        vertical-align: middle;\n",
       "    }\n",
       "\n",
       "    .dataframe tbody tr th {\n",
       "        vertical-align: top;\n",
       "    }\n",
       "\n",
       "    .dataframe thead th {\n",
       "        text-align: right;\n",
       "    }\n",
       "</style>\n",
       "<table border=\"1\" class=\"dataframe\">\n",
       "  <thead>\n",
       "    <tr style=\"text-align: right;\">\n",
       "      <th></th>\n",
       "      <th>columna</th>\n",
       "      <th>tipos_de_datos</th>\n",
       "    </tr>\n",
       "  </thead>\n",
       "  <tbody>\n",
       "    <tr>\n",
       "      <th>0</th>\n",
       "      <td>genres</td>\n",
       "      <td>[&lt;class 'list'&gt;]</td>\n",
       "    </tr>\n",
       "    <tr>\n",
       "      <th>1</th>\n",
       "      <td>app_name</td>\n",
       "      <td>[&lt;class 'str'&gt;]</td>\n",
       "    </tr>\n",
       "    <tr>\n",
       "      <th>2</th>\n",
       "      <td>release_date</td>\n",
       "      <td>[&lt;class 'str'&gt;]</td>\n",
       "    </tr>\n",
       "    <tr>\n",
       "      <th>3</th>\n",
       "      <td>price</td>\n",
       "      <td>[&lt;class 'float'&gt;, &lt;class 'str'&gt;]</td>\n",
       "    </tr>\n",
       "    <tr>\n",
       "      <th>4</th>\n",
       "      <td>id</td>\n",
       "      <td>[&lt;class 'str'&gt;]</td>\n",
       "    </tr>\n",
       "    <tr>\n",
       "      <th>5</th>\n",
       "      <td>developer</td>\n",
       "      <td>[&lt;class 'str'&gt;]</td>\n",
       "    </tr>\n",
       "  </tbody>\n",
       "</table>\n",
       "</div>"
      ],
      "text/plain": [
       "        columna                    tipos_de_datos\n",
       "0        genres                  [<class 'list'>]\n",
       "1      app_name                   [<class 'str'>]\n",
       "2  release_date                   [<class 'str'>]\n",
       "3         price  [<class 'float'>, <class 'str'>]\n",
       "4            id                   [<class 'str'>]\n",
       "5     developer                   [<class 'str'>]"
      ]
     },
     "execution_count": 46,
     "metadata": {},
     "output_type": "execute_result"
    }
   ],
   "source": [
    "data_type_process = {\n",
    "    \"columna\": list(steam.columns),\n",
    "    \"tipos_de_datos\": [steam[columna].apply(type).unique() for columna in steam.columns]\n",
    "}\n",
    "\n",
    "data_type= pd.DataFrame(data_type_process)\n",
    "data_type"
   ]
  },
  {
   "cell_type": "markdown",
   "metadata": {},
   "source": [
    "**Tranformación de los datos de la columna `app name`**"
   ]
  },
  {
   "cell_type": "code",
   "execution_count": 47,
   "metadata": {},
   "outputs": [
    {
     "data": {
      "text/plain": [
       "0             Lost Summoner Kitty\n",
       "1                       Ironbound\n",
       "2         Real Pool 3D - Poolians\n",
       "3                         弹炸人2222\n",
       "4           Battle Royale Trainer\n",
       "                   ...           \n",
       "27457                Kebab it Up!\n",
       "27458              Colony On Mars\n",
       "27459    LOGistICAL: South Africa\n",
       "27460               Russian Roads\n",
       "27461         EXIT 2 - Directions\n",
       "Name: app_name, Length: 27461, dtype: object"
      ]
     },
     "execution_count": 47,
     "metadata": {},
     "output_type": "execute_result"
    }
   ],
   "source": [
    "# Visualizamos la columna \"app_name\"\n",
    "steam[\"app_name\"]"
   ]
  },
  {
   "cell_type": "markdown",
   "metadata": {},
   "source": [
    "Se normaliza los nombres de desarrolladores en la columna `app_name` del DataFrame `games`, eliminando caracteres no alfabéticos, convirtiendo letras a minúsculas y eliminando espacios adicionales."
   ]
  },
  {
   "cell_type": "code",
   "execution_count": 48,
   "metadata": {},
   "outputs": [],
   "source": [
    "def normalize_developer_name(name):\n",
    "    if isinstance(name, str):  \n",
    "        cleaned_name = re.sub(r'[^a-zA-Z\\s]', '', name)\n",
    "        normalized_name = re.sub(r'\\s+', ' ', cleaned_name.lower().strip())\n",
    "        return normalized_name\n",
    "    else:\n",
    "        return name\n",
    "\n",
    "steam['app_name'] = steam['app_name'].apply(normalize_developer_name)"
   ]
  },
  {
   "cell_type": "code",
   "execution_count": 49,
   "metadata": {},
   "outputs": [],
   "source": [
    "steam['app_name'] = steam['app_name'].str.title()"
   ]
  },
  {
   "cell_type": "markdown",
   "metadata": {},
   "source": [
    "**Transformación de la columna `release_date`**"
   ]
  },
  {
   "cell_type": "code",
   "execution_count": 50,
   "metadata": {},
   "outputs": [
    {
     "data": {
      "text/plain": [
       "0        2018-01-04\n",
       "1        2018-01-04\n",
       "2        2017-07-24\n",
       "3        2017-12-07\n",
       "4        2018-01-04\n",
       "            ...    \n",
       "27457    2018-01-04\n",
       "27458    2018-01-04\n",
       "27459    2018-01-04\n",
       "27460    2018-01-04\n",
       "27461    2017-09-02\n",
       "Name: release_date, Length: 27461, dtype: object"
      ]
     },
     "execution_count": 50,
     "metadata": {},
     "output_type": "execute_result"
    }
   ],
   "source": [
    "# Visualizamos la columna \"release_date\"\n",
    "steam[\"release_date\"]"
   ]
  },
  {
   "cell_type": "code",
   "execution_count": 51,
   "metadata": {},
   "outputs": [
    {
     "data": {
      "text/plain": [
       "release_date\n",
       "2012-10-16    100\n",
       "2017-08-31     90\n",
       "2017-09-26     88\n",
       "2017-07-25     78\n",
       "2017-12-19     74\n",
       "             ... \n",
       "2016-01-03      1\n",
       "1998-01-29      1\n",
       "2000-01-31      1\n",
       "1994-08-15      1\n",
       "2004-03-01      1\n",
       "Name: count, Length: 3243, dtype: int64"
      ]
     },
     "execution_count": 51,
     "metadata": {},
     "output_type": "execute_result"
    }
   ],
   "source": [
    "# Calcular la frecuencia de valores únicos\n",
    "steam[\"release_date\"].value_counts()"
   ]
  },
  {
   "cell_type": "markdown",
   "metadata": {},
   "source": [
    "Para extraer el año de la fecha registrada en la columna `release_date`, es necesaria una transformación. Esto implica crear una nueva columna que contenga únicamente el año de lanzamiento `release_year`"
   ]
  },
  {
   "cell_type": "code",
   "execution_count": 52,
   "metadata": {},
   "outputs": [
    {
     "data": {
      "text/html": [
       "<div>\n",
       "<style scoped>\n",
       "    .dataframe tbody tr th:only-of-type {\n",
       "        vertical-align: middle;\n",
       "    }\n",
       "\n",
       "    .dataframe tbody tr th {\n",
       "        vertical-align: top;\n",
       "    }\n",
       "\n",
       "    .dataframe thead th {\n",
       "        text-align: right;\n",
       "    }\n",
       "</style>\n",
       "<table border=\"1\" class=\"dataframe\">\n",
       "  <thead>\n",
       "    <tr style=\"text-align: right;\">\n",
       "      <th></th>\n",
       "      <th>genres</th>\n",
       "      <th>app_name</th>\n",
       "      <th>release_date</th>\n",
       "      <th>price</th>\n",
       "      <th>id</th>\n",
       "      <th>developer</th>\n",
       "      <th>release_year</th>\n",
       "    </tr>\n",
       "  </thead>\n",
       "  <tbody>\n",
       "    <tr>\n",
       "      <th>0</th>\n",
       "      <td>[Action, Casual, Indie, Simulation, Strategy]</td>\n",
       "      <td>Lost Summoner Kitty</td>\n",
       "      <td>2018-01-04</td>\n",
       "      <td>4.99</td>\n",
       "      <td>761140</td>\n",
       "      <td>Kotoshiro</td>\n",
       "      <td>2018</td>\n",
       "    </tr>\n",
       "    <tr>\n",
       "      <th>1</th>\n",
       "      <td>[Free to Play, Indie, RPG, Strategy]</td>\n",
       "      <td>Ironbound</td>\n",
       "      <td>2018-01-04</td>\n",
       "      <td>Free To Play</td>\n",
       "      <td>643980</td>\n",
       "      <td>Secret Level SRL</td>\n",
       "      <td>2018</td>\n",
       "    </tr>\n",
       "    <tr>\n",
       "      <th>2</th>\n",
       "      <td>[Casual, Free to Play, Indie, Simulation, Sports]</td>\n",
       "      <td>Real Pool D Poolians</td>\n",
       "      <td>2017-07-24</td>\n",
       "      <td>Free to Play</td>\n",
       "      <td>670290</td>\n",
       "      <td>Poolians.com</td>\n",
       "      <td>2017</td>\n",
       "    </tr>\n",
       "    <tr>\n",
       "      <th>3</th>\n",
       "      <td>[Action, Adventure, Casual]</td>\n",
       "      <td></td>\n",
       "      <td>2017-12-07</td>\n",
       "      <td>0.99</td>\n",
       "      <td>767400</td>\n",
       "      <td>彼岸领域</td>\n",
       "      <td>2017</td>\n",
       "    </tr>\n",
       "    <tr>\n",
       "      <th>4</th>\n",
       "      <td>[Action, Adventure, Simulation]</td>\n",
       "      <td>Battle Royale Trainer</td>\n",
       "      <td>2018-01-04</td>\n",
       "      <td>3.99</td>\n",
       "      <td>772540</td>\n",
       "      <td>Trickjump Games Ltd</td>\n",
       "      <td>2018</td>\n",
       "    </tr>\n",
       "  </tbody>\n",
       "</table>\n",
       "</div>"
      ],
      "text/plain": [
       "                                              genres               app_name  \\\n",
       "0      [Action, Casual, Indie, Simulation, Strategy]    Lost Summoner Kitty   \n",
       "1               [Free to Play, Indie, RPG, Strategy]              Ironbound   \n",
       "2  [Casual, Free to Play, Indie, Simulation, Sports]   Real Pool D Poolians   \n",
       "3                        [Action, Adventure, Casual]                          \n",
       "4                    [Action, Adventure, Simulation]  Battle Royale Trainer   \n",
       "\n",
       "  release_date         price      id            developer release_year  \n",
       "0   2018-01-04          4.99  761140            Kotoshiro         2018  \n",
       "1   2018-01-04  Free To Play  643980     Secret Level SRL         2018  \n",
       "2   2017-07-24  Free to Play  670290         Poolians.com         2017  \n",
       "3   2017-12-07          0.99  767400                 彼岸领域         2017  \n",
       "4   2018-01-04          3.99  772540  Trickjump Games Ltd         2018  "
      ]
     },
     "execution_count": 52,
     "metadata": {},
     "output_type": "execute_result"
    }
   ],
   "source": [
    "steam['release_year'] = steam['release_date'].str.extract(r'(\\d{4})')\n",
    "steam.head()"
   ]
  },
  {
   "cell_type": "code",
   "execution_count": 53,
   "metadata": {},
   "outputs": [],
   "source": [
    "#Convertimos a tipo de datos int\n",
    "steam['release_year'] = steam['release_year'].fillna(0).astype('int64')"
   ]
  },
  {
   "cell_type": "code",
   "execution_count": 54,
   "metadata": {},
   "outputs": [
    {
     "name": "stdout",
     "output_type": "stream",
     "text": [
      "[2018 2017 1997 1998 2016 2006 2005 2003 2007 2002 2000 1995 1996 1994\n",
      " 2001 1993 2004 2008 2009 1999 1992 1989 2010 2011 2013 2012 2014 1983\n",
      " 1984 2015 1990 1988 1991 1987 1986    0 2021 2019 1985]\n"
     ]
    }
   ],
   "source": [
    "print(steam['release_year'].unique())"
   ]
  },
  {
   "cell_type": "code",
   "execution_count": 55,
   "metadata": {},
   "outputs": [],
   "source": [
    "#excluyo el 0 de los datos\n",
    "steam= steam[steam['release_year'] != 0]"
   ]
  },
  {
   "cell_type": "markdown",
   "metadata": {},
   "source": [
    "**Transformación de los datos de la columna `price`**"
   ]
  },
  {
   "cell_type": "code",
   "execution_count": 56,
   "metadata": {},
   "outputs": [
    {
     "data": {
      "text/plain": [
       "0                4.99\n",
       "1        Free To Play\n",
       "2        Free to Play\n",
       "3                0.99\n",
       "4                3.99\n",
       "             ...     \n",
       "27457            1.99\n",
       "27458            1.99\n",
       "27459            4.99\n",
       "27460            1.99\n",
       "27461            4.99\n",
       "Name: price, Length: 27458, dtype: object"
      ]
     },
     "execution_count": 56,
     "metadata": {},
     "output_type": "execute_result"
    }
   ],
   "source": [
    "#observo la composición de la columna\n",
    "steam[\"price\"]"
   ]
  },
  {
   "cell_type": "code",
   "execution_count": 26,
   "metadata": {},
   "outputs": [
    {
     "data": {
      "text/plain": [
       "price\n",
       "4.99           3828\n",
       "9.99           3568\n",
       "2.99           3155\n",
       "0.99           2458\n",
       "1.99           2245\n",
       "               ... \n",
       "179.0             1\n",
       "6.66              1\n",
       "189.0             1\n",
       "1.5               1\n",
       "Free to Use       1\n",
       "Name: count, Length: 149, dtype: int64"
      ]
     },
     "execution_count": 26,
     "metadata": {},
     "output_type": "execute_result"
    }
   ],
   "source": [
    "# Calcular la frecuencia de valores únicos\n",
    "steam[\"price\"].value_counts()"
   ]
  },
  {
   "cell_type": "code",
   "execution_count": 57,
   "metadata": {},
   "outputs": [
    {
     "data": {
      "text/plain": [
       "array([4.99, 'Free To Play', 'Free to Play', 0.99, 3.99, 9.99, 18.99,\n",
       "       29.99, 10.99, 2.99, 1.59, 14.99, 1.99, 59.99, 8.99, 6.99, 7.99,\n",
       "       39.99, 'Free', 19.99, 7.49, 12.99, 5.99, 2.49, 15.99, 1.25, 24.99,\n",
       "       17.99, 61.99, 3.49, 11.99, 13.99, 'Free Demo', 'Play for Free!',\n",
       "       34.99, 1.49, 32.99, 99.99, 14.95, 69.99, 16.99, 79.99, 49.99, 5.0,\n",
       "       13.98, 29.96, 109.99, 149.99, 771.71, 'Install Now', 21.99, 89.99,\n",
       "       'Play WARMACHINE: Tactics Demo', 0.98, 139.92, 4.29, 'Free Mod',\n",
       "       54.99, 64.99, 74.99, 'Install Theme', 0.89, 'Third-party', 0.5,\n",
       "       'Play Now', 299.99, 1.29, 119.99, 44.99, 3.0, 15.0, 5.49, 23.99,\n",
       "       49.0, 10.93, 1.39, 'Free HITMAN™ Holiday Pack', 36.99, 4.49, 2.0,\n",
       "       4.0, 1.95, 1.5, 199.0, 189.0, 6.66, 27.99, 129.99, 179.0, 26.99,\n",
       "       399.99, 31.99, 399.0, 20.0, 40.0, 3.33, 22.99, 320.0, 38.85, 71.7,\n",
       "       995.0, 27.49, 3.39, 6.0, 19.95, 20.99, 499.99, 199.99, 16.06, 4.68,\n",
       "       131.4, 44.98, 202.76, 2.3, 0.95, 172.24, 249.99, 2.97, 10.96, 10.0,\n",
       "       30.0, 2.66, 6.48, 1.0, 11.15, 'Play the Demo', 99.0, 87.94, 0.49,\n",
       "       9.98, 9.95, 7.0, 12.89, 6.49, 1.87, 42.99, 41.99, 289.99,\n",
       "       'Free to Try', 23.96, 5.65, 12.0, 59.95, 13.37, 189.96, 124.99,\n",
       "       19.98, 160.91, 'Free to Use'], dtype=object)"
      ]
     },
     "execution_count": 57,
     "metadata": {},
     "output_type": "execute_result"
    }
   ],
   "source": [
    "steam['price'].unique()"
   ]
  },
  {
   "cell_type": "markdown",
   "metadata": {},
   "source": [
    "Hay valores en la columna 'price' que contienen 'str', en su gran mayoria indican que son 'Free', los reemplazo por 0.0, luego cambio el tipo de dato a float"
   ]
  },
  {
   "cell_type": "code",
   "execution_count": 58,
   "metadata": {},
   "outputs": [],
   "source": [
    "# Cambiar valores de la columna 'price' donde indique que sea \"str\" por '0.0'\n",
    "steam['price'] = steam['price'].apply(lambda x: 0.0 if isinstance(x,str) else x)\n",
    "steam['price'] = steam['price'].astype('float')"
   ]
  },
  {
   "cell_type": "markdown",
   "metadata": {},
   "source": [
    "**Tratamiento de los datos de la columna `genres`**"
   ]
  },
  {
   "cell_type": "code",
   "execution_count": 59,
   "metadata": {},
   "outputs": [
    {
     "data": {
      "text/plain": [
       "['Action', 'Casual', 'Indie', 'Simulation', 'Strategy']"
      ]
     },
     "execution_count": 59,
     "metadata": {},
     "output_type": "execute_result"
    }
   ],
   "source": [
    "steam[\"genres\"][0]"
   ]
  },
  {
   "cell_type": "markdown",
   "metadata": {},
   "source": [
    "Al utilizar la función \"explode\", puedo extraer cada valor almacenado en la columna `genres` y mostrarlos en un nuevo campo conservando su id asociada original."
   ]
  },
  {
   "cell_type": "code",
   "execution_count": 60,
   "metadata": {},
   "outputs": [],
   "source": [
    "steam = steam.explode(\"genres\")\n",
    "steam = steam.dropna(subset=[\"genres\"]).reset_index(drop=True)"
   ]
  },
  {
   "cell_type": "code",
   "execution_count": 61,
   "metadata": {},
   "outputs": [],
   "source": [
    "# Convertir los valores de la columna 'genres' en una cadena separada por comas\n",
    "steam['genres'] = steam['genres'].astype(str).apply(lambda x: ', '.join(filter(None, x.split(','))))"
   ]
  },
  {
   "cell_type": "markdown",
   "metadata": {},
   "source": [
    "**Tranformación de datos de la columna `id`**"
   ]
  },
  {
   "cell_type": "code",
   "execution_count": 62,
   "metadata": {},
   "outputs": [
    {
     "data": {
      "text/plain": [
       "0        761140\n",
       "1        761140\n",
       "2        761140\n",
       "3        761140\n",
       "4        761140\n",
       "          ...  \n",
       "68011    610660\n",
       "68012    610660\n",
       "68013    610660\n",
       "68014    658870\n",
       "68015    658870\n",
       "Name: id, Length: 68016, dtype: object"
      ]
     },
     "execution_count": 62,
     "metadata": {},
     "output_type": "execute_result"
    }
   ],
   "source": [
    "#observo la composición de la columna\n",
    "steam[\"id\"]"
   ]
  },
  {
   "cell_type": "code",
   "execution_count": 63,
   "metadata": {},
   "outputs": [],
   "source": [
    "# cambia el nombre de la columna 'id' a 'item_id'\n",
    "steam = steam.rename(columns={'id':'item_id'})"
   ]
  },
  {
   "cell_type": "code",
   "execution_count": 64,
   "metadata": {},
   "outputs": [],
   "source": [
    "# se reordenan las variables con caracteristicas mas importantes a criterio\n",
    "steam = steam[['item_id','app_name','genres','developer','price','release_year']]"
   ]
  },
  {
   "cell_type": "code",
   "execution_count": 65,
   "metadata": {},
   "outputs": [],
   "source": [
    "#Reseteo el indice de las filas\n",
    "steam.reset_index(drop=True, inplace=True)"
   ]
  },
  {
   "cell_type": "markdown",
   "metadata": {},
   "source": [
    "**Almaceno el DataFrame en un formato de archivo Parquet con el fin de mejorar su eficiencia y facilitar su uso en consultas posteriores**\n",
    "\n",
    "Se crea una copia independiente del DataFrame `steam` y asigna esta copia a la variable `steam_copy`. Esto se hace para evitar que cualquier modificación realizada en la copia afecte al DataFrame original, permitiendo trabajar con los datos de manera segura sin alterar el DataFrame original."
   ]
  },
  {
   "cell_type": "code",
   "execution_count": 66,
   "metadata": {},
   "outputs": [],
   "source": [
    "# Generamos copia\n",
    "steam_copy = steam.copy()"
   ]
  },
  {
   "cell_type": "markdown",
   "metadata": {},
   "source": [
    "#### **Guardo incialmente el DF en formato CSV, llamado `steam_games.csv`**"
   ]
  },
  {
   "cell_type": "code",
   "execution_count": 67,
   "metadata": {},
   "outputs": [],
   "source": [
    "ruta_carpeta = \"data\"\n",
    "\n",
    "if not os.path.exists(ruta_carpeta):\n",
    "    os.makedirs(ruta_carpeta)\n",
    "\n",
    "ruta_guardar_csv = 'data/steam_games.csv'\n",
    "steam_copy.to_csv(ruta_guardar_csv, index=False, encoding='utf-8')"
   ]
  },
  {
   "cell_type": "markdown",
   "metadata": {},
   "source": [
    "#### **Convierto el CSV y guardo como `steam_games.parquet`**"
   ]
  },
  {
   "cell_type": "code",
   "execution_count": 68,
   "metadata": {},
   "outputs": [],
   "source": [
    "#Se lee el archivo csv\n",
    "steam_copy= pd.read_csv(\"data/steam_games.csv\") \n",
    "\n",
    "#Asigno la ruta donde quiero guardar el parquet con el nombre que va tener\n",
    "ruta_guardar_parquet= \"data/steam_games.parquet\"\n",
    "\n",
    "#Transformo a una tabla el archivo csv en parquet\n",
    "table = pa.Table.from_pandas(steam_copy)\n",
    "pq.write_table(table,ruta_guardar_parquet)"
   ]
  },
  {
   "cell_type": "code",
   "execution_count": 69,
   "metadata": {},
   "outputs": [
    {
     "data": {
      "text/html": [
       "<div>\n",
       "<style scoped>\n",
       "    .dataframe tbody tr th:only-of-type {\n",
       "        vertical-align: middle;\n",
       "    }\n",
       "\n",
       "    .dataframe tbody tr th {\n",
       "        vertical-align: top;\n",
       "    }\n",
       "\n",
       "    .dataframe thead th {\n",
       "        text-align: right;\n",
       "    }\n",
       "</style>\n",
       "<table border=\"1\" class=\"dataframe\">\n",
       "  <thead>\n",
       "    <tr style=\"text-align: right;\">\n",
       "      <th></th>\n",
       "      <th>item_id</th>\n",
       "      <th>app_name</th>\n",
       "      <th>genres</th>\n",
       "      <th>developer</th>\n",
       "      <th>price</th>\n",
       "      <th>release_year</th>\n",
       "    </tr>\n",
       "  </thead>\n",
       "  <tbody>\n",
       "    <tr>\n",
       "      <th>0</th>\n",
       "      <td>761140</td>\n",
       "      <td>Lost Summoner Kitty</td>\n",
       "      <td>Action</td>\n",
       "      <td>Kotoshiro</td>\n",
       "      <td>4.99</td>\n",
       "      <td>2018</td>\n",
       "    </tr>\n",
       "    <tr>\n",
       "      <th>1</th>\n",
       "      <td>761140</td>\n",
       "      <td>Lost Summoner Kitty</td>\n",
       "      <td>Casual</td>\n",
       "      <td>Kotoshiro</td>\n",
       "      <td>4.99</td>\n",
       "      <td>2018</td>\n",
       "    </tr>\n",
       "    <tr>\n",
       "      <th>2</th>\n",
       "      <td>761140</td>\n",
       "      <td>Lost Summoner Kitty</td>\n",
       "      <td>Indie</td>\n",
       "      <td>Kotoshiro</td>\n",
       "      <td>4.99</td>\n",
       "      <td>2018</td>\n",
       "    </tr>\n",
       "    <tr>\n",
       "      <th>3</th>\n",
       "      <td>761140</td>\n",
       "      <td>Lost Summoner Kitty</td>\n",
       "      <td>Simulation</td>\n",
       "      <td>Kotoshiro</td>\n",
       "      <td>4.99</td>\n",
       "      <td>2018</td>\n",
       "    </tr>\n",
       "    <tr>\n",
       "      <th>4</th>\n",
       "      <td>761140</td>\n",
       "      <td>Lost Summoner Kitty</td>\n",
       "      <td>Strategy</td>\n",
       "      <td>Kotoshiro</td>\n",
       "      <td>4.99</td>\n",
       "      <td>2018</td>\n",
       "    </tr>\n",
       "    <tr>\n",
       "      <th>...</th>\n",
       "      <td>...</td>\n",
       "      <td>...</td>\n",
       "      <td>...</td>\n",
       "      <td>...</td>\n",
       "      <td>...</td>\n",
       "      <td>...</td>\n",
       "    </tr>\n",
       "    <tr>\n",
       "      <th>68011</th>\n",
       "      <td>610660</td>\n",
       "      <td>Russian Roads</td>\n",
       "      <td>Indie</td>\n",
       "      <td>Laush Dmitriy Sergeevich</td>\n",
       "      <td>1.99</td>\n",
       "      <td>2018</td>\n",
       "    </tr>\n",
       "    <tr>\n",
       "      <th>68012</th>\n",
       "      <td>610660</td>\n",
       "      <td>Russian Roads</td>\n",
       "      <td>Racing</td>\n",
       "      <td>Laush Dmitriy Sergeevich</td>\n",
       "      <td>1.99</td>\n",
       "      <td>2018</td>\n",
       "    </tr>\n",
       "    <tr>\n",
       "      <th>68013</th>\n",
       "      <td>610660</td>\n",
       "      <td>Russian Roads</td>\n",
       "      <td>Simulation</td>\n",
       "      <td>Laush Dmitriy Sergeevich</td>\n",
       "      <td>1.99</td>\n",
       "      <td>2018</td>\n",
       "    </tr>\n",
       "    <tr>\n",
       "      <th>68014</th>\n",
       "      <td>658870</td>\n",
       "      <td>Exit Directions</td>\n",
       "      <td>Casual</td>\n",
       "      <td>xropi,stev3ns</td>\n",
       "      <td>4.99</td>\n",
       "      <td>2017</td>\n",
       "    </tr>\n",
       "    <tr>\n",
       "      <th>68015</th>\n",
       "      <td>658870</td>\n",
       "      <td>Exit Directions</td>\n",
       "      <td>Indie</td>\n",
       "      <td>xropi,stev3ns</td>\n",
       "      <td>4.99</td>\n",
       "      <td>2017</td>\n",
       "    </tr>\n",
       "  </tbody>\n",
       "</table>\n",
       "<p>68016 rows × 6 columns</p>\n",
       "</div>"
      ],
      "text/plain": [
       "      item_id             app_name      genres                 developer  \\\n",
       "0      761140  Lost Summoner Kitty      Action                 Kotoshiro   \n",
       "1      761140  Lost Summoner Kitty      Casual                 Kotoshiro   \n",
       "2      761140  Lost Summoner Kitty       Indie                 Kotoshiro   \n",
       "3      761140  Lost Summoner Kitty  Simulation                 Kotoshiro   \n",
       "4      761140  Lost Summoner Kitty    Strategy                 Kotoshiro   \n",
       "...       ...                  ...         ...                       ...   \n",
       "68011  610660        Russian Roads       Indie  Laush Dmitriy Sergeevich   \n",
       "68012  610660        Russian Roads      Racing  Laush Dmitriy Sergeevich   \n",
       "68013  610660        Russian Roads  Simulation  Laush Dmitriy Sergeevich   \n",
       "68014  658870      Exit Directions      Casual             xropi,stev3ns   \n",
       "68015  658870      Exit Directions       Indie             xropi,stev3ns   \n",
       "\n",
       "       price  release_year  \n",
       "0       4.99          2018  \n",
       "1       4.99          2018  \n",
       "2       4.99          2018  \n",
       "3       4.99          2018  \n",
       "4       4.99          2018  \n",
       "...      ...           ...  \n",
       "68011   1.99          2018  \n",
       "68012   1.99          2018  \n",
       "68013   1.99          2018  \n",
       "68014   4.99          2017  \n",
       "68015   4.99          2017  \n",
       "\n",
       "[68016 rows x 6 columns]"
      ]
     },
     "execution_count": 69,
     "metadata": {},
     "output_type": "execute_result"
    }
   ],
   "source": [
    "steam"
   ]
  }
 ],
 "metadata": {
  "kernelspec": {
   "display_name": "venv",
   "language": "python",
   "name": "python3"
  },
  "language_info": {
   "codemirror_mode": {
    "name": "ipython",
    "version": 3
   },
   "file_extension": ".py",
   "mimetype": "text/x-python",
   "name": "python",
   "nbconvert_exporter": "python",
   "pygments_lexer": "ipython3",
   "version": "3.11.1"
  }
 },
 "nbformat": 4,
 "nbformat_minor": 2
}
